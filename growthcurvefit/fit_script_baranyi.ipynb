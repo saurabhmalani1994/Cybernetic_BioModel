{
 "cells": [
  {
   "cell_type": "code",
   "execution_count": null,
   "metadata": {},
   "outputs": [],
   "source": [
    "%cd /home/smalani/Cybernetic/growthcurvefit/\n",
    "import pandas as pd"
   ]
  },
  {
   "cell_type": "code",
   "execution_count": null,
   "metadata": {},
   "outputs": [],
   "source": [
    "df = pd.read_csv('/home/smalani/Cybernetic/growthcurvefit/data/Data_For_Importation.csv')\n",
    "df.head()\n",
    "\n",
    "df['M0'] = df['M0'] * 10 / 6\n",
    "df['M1'] = df['M1'] * 10 / 6\n",
    "df['M2'] = df['M2'] * 10 / 6\n",
    "df['M3'] = df['M3'] * 10 / 6\n",
    "df['M4'] = df['M4'] * 10 / 6\n",
    "df['M5'] = df['M5'] * 10 / 6\n",
    "df['M6'] = df['M6'] * 10 / 6\n",
    "df['M7'] = df['M7'] * 10 / 6\n"
   ]
  },
  {
   "cell_type": "code",
   "execution_count": null,
   "metadata": {},
   "outputs": [],
   "source": [
    "df_par = pd.read_csv('/home/smalani/Cybernetic/growthcurvefit/data/LightParameter.csv')\n",
    "print(df_par.head())\n",
    "print(df_par)\n",
    "\n",
    "df_dict = df_par.to_dict('list')\n"
   ]
  },
  {
   "cell_type": "code",
   "execution_count": null,
   "metadata": {},
   "outputs": [],
   "source": [
    "df_par.nunique(axis=1)[0]"
   ]
  },
  {
   "cell_type": "code",
   "execution_count": null,
   "metadata": {},
   "outputs": [],
   "source": [
    "def growthfun(t,x,p):\n",
    "\n",
    "    # Parameters\n",
    "    mu_max, Ks, Y = p\n",
    "\n",
    "    # Variables\n",
    "    S, X = x\n",
    "    \n",
    "    \n",
    "    mu = mu_max * S / (Ks + S)\n",
    "\n",
    "    dSdt = - (mu / Y) * X\n",
    "    dXdt = mu * X\n",
    "\n",
    "    return [dSdt, dXdt]\n",
    "\n",
    "def baranyifun(t_arr, p):\n",
    "\n",
    "    # Parameters\n",
    "    mu_max, x0, xmax, lambd = p\n",
    "\n",
    "    y0 = np.log(x0)\n",
    "    ymax = np.log(xmax)\n",
    "\n",
    "    A = t_arr + (1/mu_max) * np.log(np.exp(-mu_max * t_arr) + np.exp(-mu_max * lambd) - np.exp(-mu_max * t_arr -mu_max * lambd))\n",
    "\n",
    "    y_t = y0 + mu_max * A - np.log(1 + (np.exp(mu_max * A) - 1) / (np.exp(ymax - y0)))\n",
    "    x_t = np.exp(y_t)\n",
    "\n",
    "    return x_t"
   ]
  },
  {
   "cell_type": "code",
   "execution_count": null,
   "metadata": {},
   "outputs": [],
   "source": [
    "import matplotlib.pyplot as plt\n",
    "\n",
    "\n",
    "\n",
    "fig = plt.figure(figsize=(10,10))\n",
    "ax = fig.add_subplot(111)\n",
    "ax.plot(df['Time'], df['M0'], '.', label='M0')\n",
    "\n",
    "fig = plt.figure(figsize=(10,10))\n",
    "ax = fig.add_subplot(111)\n",
    "ax.semilogy(df['Time'], df['M0'], '.', label='M0')"
   ]
  },
  {
   "cell_type": "code",
   "execution_count": null,
   "metadata": {},
   "outputs": [],
   "source": [
    "import numpy as np\n",
    "from scipy.integrate import solve_ivp\n",
    "\n",
    "def fsolvefun(pars):\n",
    "    mu_max, xmax, lambd = pars\n",
    "\n",
    "    x0 = 0.01\n",
    "    pars = mu_max, x0, xmax, lambd\n",
    "    t_arr = df['Time']\n",
    "    x_t = baranyifun(t_arr, pars)\n",
    "    \n",
    "    return np.mean((x_t - df['M0']) ** 2) #+ Ks * 0.01"
   ]
  },
  {
   "cell_type": "code",
   "execution_count": null,
   "metadata": {},
   "outputs": [],
   "source": [
    "print(df['Time'].iloc[-1])"
   ]
  },
  {
   "cell_type": "code",
   "execution_count": null,
   "metadata": {},
   "outputs": [],
   "source": [
    "from scipy.optimize import minimize\n",
    "\n",
    "fsolve_guess = [0.3, 10, 0]\n",
    "fsolve_sol = minimize(fsolvefun, fsolve_guess, method='L-BFGS-B', bounds=((1e-10, None), (1e-10, None), (0, None)), options={'eps': 1e-11})\n",
    "\n",
    "print(fsolve_sol)\n"
   ]
  },
  {
   "cell_type": "code",
   "execution_count": null,
   "metadata": {},
   "outputs": [],
   "source": [
    "import matplotlib.pyplot as plt\n",
    "\n",
    "xinit = [2, 0.01]\n",
    "x0 = 0.01\n",
    "\n",
    "fsolve_guess = [0.3, 10, 0]\n",
    "\n",
    "mu_max, ymax, lambd = fsolve_sol.x\n",
    "# mu_max, ymax, lambd = fsolve_guess\n",
    "pars = mu_max, x0, ymax, lambd\n",
    "\n",
    "t_arr = df['Time']\n",
    "x_t = baranyifun(t_arr, pars)\n",
    "\n",
    "\n",
    "fig = plt.figure(figsize=(20,10))\n",
    "ax = fig.add_subplot(111)\n",
    "ax.plot(df['Time'], df['M0'], '.', label='M0')\n",
    "ax.plot(t_arr, x_t, label='Fit')"
   ]
  },
  {
   "cell_type": "code",
   "execution_count": null,
   "metadata": {},
   "outputs": [],
   "source": [
    "import numpy as np\n",
    "from scipy.integrate import solve_ivp\n",
    "\n",
    "# def fsolvefun(pars):\n",
    "#     mu_max, xmax, lambd = pars\n",
    "\n",
    "#     x0 = 0.01\n",
    "#     pars = mu_max, x0, xmax, lambd\n",
    "#     t_arr = df['Time']\n",
    "#     x_t = baranyifun(t_arr, pars)\n",
    "    \n",
    "#     return np.mean((x_t - df['M0']) ** 2) #+ Ks * 0.01\n",
    "\n",
    "def fsolvefun(pars):\n",
    "    print(pars)\n",
    "    mu_maxs = pars[:8]\n",
    "    lambdas = pars[8:16]\n",
    "    xmax = pars[16]\n",
    "    x0 = 0.01\n",
    "\n",
    "    error = 0\n",
    "    for i in range(len(lambdas)):\n",
    "        lambd = lambdas[i]\n",
    "        mu_max = mu_maxs[i]\n",
    "        t_arr = df['Time']\n",
    "        ars = mu_max, x0, xmax, lambd\n",
    "        x_t = baranyifun(t_arr, [mu_max, x0, xmax, lambd])\n",
    "        reactor = 'M' + str(i)\n",
    "        error += np.mean((x_t - df[reactor]) ** 2)\n",
    "\n",
    "    return error"
   ]
  },
  {
   "cell_type": "code",
   "execution_count": null,
   "metadata": {},
   "outputs": [],
   "source": [
    "fsolve_guess = [0.3, 0.3, 0.3, 0.3, 0.2, 0.2, 0.1, 0.1,\n",
    "                 1, 1, 1, 1, 1, 1, 1, 1,\n",
    "                  10]\n",
    "bounds = tuple([(1e-10, None)] * 16 + [(1e-10, None)])\n",
    "fsolve_sol = minimize(fsolvefun, fsolve_guess, method='L-BFGS-B', bounds=bounds, options={'eps': 1e-11})\n",
    "print(fsolve_sol)"
   ]
  },
  {
   "cell_type": "code",
   "execution_count": null,
   "metadata": {},
   "outputs": [],
   "source": [
    "import matplotlib.pyplot as plt\n",
    "\n",
    "lambdas = fsolve_sol.x[:8]\n",
    "mu_maxs = fsolve_sol.x[8:16]\n",
    "xmax = fsolve_sol.x[16]\n",
    "x0 = 0.01\n",
    "\n",
    "\n",
    "\n",
    "error = 0\n",
    "for i in range(len(lambdas)):\n",
    "    lambd = lambdas[i]\n",
    "    mu_max = mu_maxs[i]\n",
    "    t_arr = df['Time']\n",
    "    ars = mu_max, x0, xmax, lambd\n",
    "    x_t = baranyifun(t_arr, [mu_max, x0, xmax, lambd])\n",
    "    error += np.mean((x_t - df['M' + str(i)]) ** 2)"
   ]
  }
 ],
 "metadata": {
  "kernelspec": {
   "display_name": "Python [conda env:.conda-torch-env] *",
   "language": "python",
   "name": "conda-env-.conda-torch-env-py"
  },
  "language_info": {
   "codemirror_mode": {
    "name": "ipython",
    "version": 3
   },
   "file_extension": ".py",
   "mimetype": "text/x-python",
   "name": "python",
   "nbconvert_exporter": "python",
   "pygments_lexer": "ipython3",
   "version": "3.8.11"
  },
  "orig_nbformat": 4
 },
 "nbformat": 4,
 "nbformat_minor": 2
}
