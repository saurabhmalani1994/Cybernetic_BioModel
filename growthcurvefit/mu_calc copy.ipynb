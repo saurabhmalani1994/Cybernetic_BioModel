{
 "cells": [
  {
   "cell_type": "code",
   "execution_count": null,
   "metadata": {},
   "outputs": [],
   "source": [
    "%cd /home/smalani/Cybernetic/growthcurvefit/\n",
    "import pandas as pd"
   ]
  },
  {
   "cell_type": "code",
   "execution_count": null,
   "metadata": {},
   "outputs": [],
   "source": []
  },
  {
   "cell_type": "code",
   "execution_count": null,
   "metadata": {},
   "outputs": [],
   "source": [
    "df = pd.read_csv('/home/smalani/Cybernetic/growthcurvefit/data/OptoQAMP1-PDC1-SGy128-4.csv')\n",
    "\n",
    "# import opto_fit_mu_baranyi as ofmb\n",
    "\n",
    "# reactor_arr = ['M0-1', 'M1-1', 'M2-1', 'M3-1', 'M4-1', 'M5-1', 'M6-1', 'M7-1', \n",
    "#                'M0-2', 'M1-2', 'M2-2', 'M3-2', 'M4-2', 'M5-2', 'M6-2', 'M7-2']\n",
    "# fixed_xmax = False\n",
    "# output = ofmb.mu_fit(df, reactor_arr, fixed_xmax=fixed_xmax)\n",
    "# print(output)\n",
    "\n",
    "\n",
    "import opto_fit_mu_baranyi as ofmb\n",
    "\n",
    "reactor_arr = ['M0-1', 'M1-1', 'M2-1', 'M3-1', 'M4-1', 'M5-1', 'M6-1', 'M7-1', \n",
    "               'M0-2', 'M1-2', 'M2-2', 'M3-2', 'M4-2', 'M5-2', 'M6-2', 'M7-2']\n",
    "\n",
    "# reactor_arr = ['M4-2']\n",
    "\n",
    "fixed_xmax = False\n",
    "output = ofmb.mu_fit_sequential(df, reactor_arr)\n",
    "print(output[0:-1])\n",
    "print(output[-1])"
   ]
  },
  {
   "cell_type": "code",
   "execution_count": null,
   "metadata": {},
   "outputs": [],
   "source": [
    "import matplotlib.pyplot as plt\n",
    "import numpy as np\n",
    "\n",
    "mu_SGy128_4_lights = np.array([0, 0, 0.01, 0.01, 0.1, 0.1, 1, 1, 0.03, 0.03, 0.01, 0.01, 0.06, 0.06, 0.08, 0.08])\n",
    "\n",
    "fig, ax = plt.subplots(4, 2, figsize=(20,30))\n",
    "\n",
    "mu_maxs = output[0]\n",
    "lambdas = output[1]\n",
    "xmaxs = output[2]\n",
    "x0 = 0.01\n",
    "\n",
    "error = 0\n",
    "for i in range(len(lambdas)):\n",
    "    lambd = lambdas[i]\n",
    "    mu_max = mu_maxs[i]\n",
    "    if fixed_xmax:\n",
    "        xmax = xmaxs[0]\n",
    "    else:\n",
    "        xmax = xmaxs[i]\n",
    "    t_arr = df['Time'].iloc[:df[reactor_arr[i]].size]\n",
    "    x_t = ofmb.baranyifun(t_arr, [mu_max, x0, xmax, lambd])\n",
    "    ax[int(i/2)//2, int(i/2)%2].plot(df['Time'], df[reactor_arr[i]], 'k-', label=reactor_arr[i])\n",
    "    ax[int(i/2)//2, int(i/2)%2].plot(t_arr, x_t, 'b--')"
   ]
  },
  {
   "cell_type": "code",
   "execution_count": null,
   "metadata": {},
   "outputs": [],
   "source": [
    "df = pd.read_csv('/home/smalani/Cybernetic/growthcurvefit/data/OptoQINVRT4-PDC1-SGy104-1.csv')\n",
    "\n",
    "# import opto_fit_mu_baranyi as ofmb\n",
    "\n",
    "# reactor_arr = ['M0', 'M1', 'M2', 'M3', 'M4', 'M5', 'M6', 'M7', \n",
    "#                ]\n",
    "# fixed_xmax = False\n",
    "# output = ofmb.mu_fit(df, reactor_arr, fixed_xmax=fixed_xmax)\n",
    "# print(output)\n",
    "\n",
    "\n",
    "import opto_fit_mu_baranyi as ofmb\n",
    "\n",
    "reactor_arr = ['M0-1', 'M1-1', 'M2-1', 'M3-1', 'M4-1', 'M5-1', 'M6-1', 'M7-1', \n",
    "               'M0-2', 'M1-2', 'M2-2', 'M3-2', 'M4-2', 'M5-2', 'M6-2', 'M7-2']\n",
    "fixed_xmax = False\n",
    "output = ofmb.mu_fit_sequential(df, reactor_arr)\n",
    "print(output[0:-1])\n",
    "print(output[-1])"
   ]
  },
  {
   "cell_type": "code",
   "execution_count": null,
   "metadata": {},
   "outputs": [],
   "source": [
    "import matplotlib.pyplot as plt\n",
    "import numpy as np\n",
    "\n",
    "fig, ax = plt.subplots(4, 2, figsize=(20,30))\n",
    "\n",
    "mu_maxs = output[0]\n",
    "lambdas = output[1]\n",
    "xmaxs = output[2]\n",
    "x0 = 0.01\n",
    "\n",
    "error = 0\n",
    "for i in range(len(lambdas)):\n",
    "    lambd = lambdas[i]\n",
    "    mu_max = mu_maxs[i]\n",
    "    if fixed_xmax:\n",
    "        xmax = xmaxs[0]\n",
    "    else:\n",
    "        xmax = xmaxs[i]\n",
    "    t_arr = df['Time'].iloc[:df[reactor_arr[i]].size]\n",
    "    x_t = ofmb.baranyifun(t_arr, [mu_max, x0, xmax, lambd])\n",
    "    ax[int(i/2)//2, int(i/2)%2].plot(df['Time'], df[reactor_arr[i]], 'k-', label=reactor_arr[i])\n",
    "    ax[int(i/2)//2, int(i/2)%2].plot(t_arr, x_t, 'b--')"
   ]
  }
 ],
 "metadata": {
  "kernelspec": {
   "display_name": "Python [conda env:.conda-torch-env] *",
   "language": "python",
   "name": "conda-env-.conda-torch-env-py"
  },
  "orig_nbformat": 4
 },
 "nbformat": 4,
 "nbformat_minor": 2
}
