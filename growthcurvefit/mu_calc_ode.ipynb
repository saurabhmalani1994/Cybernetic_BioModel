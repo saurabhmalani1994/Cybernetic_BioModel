{
 "cells": [
  {
   "cell_type": "code",
   "execution_count": 1,
   "metadata": {},
   "outputs": [
    {
     "name": "stdout",
     "output_type": "stream",
     "text": [
      "/home/smalani/Cybernetic/growthcurvefit\n"
     ]
    }
   ],
   "source": [
    "%cd /home/smalani/Cybernetic/growthcurvefit/\n",
    "import pandas as pd\n",
    "import numpy as np"
   ]
  },
  {
   "cell_type": "code",
   "execution_count": 2,
   "metadata": {},
   "outputs": [],
   "source": [
    "# my_mumaxes = np.array(my_mumaxes)\n",
    "# my_Kses = np.array(my_Kses)\n",
    "\n",
    "# s0 = 2\n",
    "# my_mus = my_mumaxes * s0 / (my_Kses + s0)\n",
    "\n",
    "# print(my_mus)\n",
    "# print(my_Kses)\n",
    "# print(my_mumaxes)"
   ]
  },
  {
   "cell_type": "code",
   "execution_count": 3,
   "metadata": {},
   "outputs": [
    {
     "name": "stderr",
     "output_type": "stream",
     "text": [
      "  0%|          | 0/4 [00:00<?, ?it/s]"
     ]
    },
    {
     "name": "stdout",
     "output_type": "stream",
     "text": [
      "fitting mus sequentially\n"
     ]
    }
   ],
   "source": [
    "df = pd.read_csv('/home/smalani/Cybernetic/growthcurvefit/data/OptoQINVRT4-PDC1-SGy104-1.csv')\n",
    "\n",
    "# import opto_fit_mu_baranyi as ofmb\n",
    "\n",
    "# reactor_arr = ['M0-1', 'M1-1', 'M2-1', 'M3-1', 'M4-1', 'M5-1', 'M6-1', 'M7-1', \n",
    "#                'M0-2', 'M1-2', 'M2-2', 'M3-2', 'M4-2', 'M5-2', 'M6-2', 'M7-2']\n",
    "# fixed_xmax = False\n",
    "# output = ofmb.mu_fit(df, reactor_arr, fixed_xmax=fixed_xmax)\n",
    "# print(output)\n",
    "\n",
    "\n",
    "import opto_fit_mu_baranyi_ode as ofmb\n",
    "\n",
    "reactor_arr = ['M0-1', 'M1-1', 'M2-1', 'M3-1', 'M4-1', 'M5-1', 'M6-1', 'M7-1', \n",
    "               'M0-2', 'M1-2', 'M2-2', 'M3-2', 'M4-2', 'M5-2', 'M6-2', 'M7-2']\n",
    "\n",
    "reactor_arr = ['M2-1', 'M3-1', 'M2-2', 'M3-2']\n",
    "my_xes = []\n",
    "my_mumaxes = []\n",
    "my_Kses = []\n",
    "\n",
    "fixed_xmax = False\n",
    "output = ofmb.mu_fit_sequential(df, reactor_arr)\n",
    "\n",
    "for o in output:\n",
    "    my_xes.append(o.x)\n",
    "    my_mumaxes.append(o.x[1])\n",
    "    my_Kses.append(o.x[3])\n",
    "\n",
    "my_mumaxes = np.array(my_mumaxes)\n",
    "my_Kses = np.array(my_Kses)\n",
    "\n",
    "s0 = 2\n",
    "# Ks = 0.2\n",
    "my_mus = my_mumaxes * s0 / (Ks + s0)\n",
    "\n",
    "print(my_mus)\n",
    "\n"
   ]
  },
  {
   "cell_type": "code",
   "execution_count": null,
   "metadata": {},
   "outputs": [],
   "source": [
    "s0 = 2\n",
    "# Ks = 0.2\n",
    "my_mus = my_mumaxes * s0 / (Ks + s0)\n",
    "\n",
    "print(my_mus)"
   ]
  },
  {
   "cell_type": "code",
   "execution_count": null,
   "metadata": {},
   "outputs": [],
   "source": [
    "import matplotlib.pyplot as plt\n",
    "import numpy as np\n",
    "from scipy.integrate import solve_ivp\n",
    "\n",
    "index = 2\n",
    "print(output[index])\n",
    "\n",
    "q0, mu_max, Y, Ks, m = my_xes[index]\n",
    "\n",
    "\n",
    "# Ks = 0.2\n",
    "x0 = 0.01\n",
    "s0 = 2\n",
    "\n",
    "# q0 = 1e10\n",
    "mu_max = 0.4\n",
    "\n",
    "t_arr = df['Time'].iloc[:df[reactor_arr[index]].size].to_numpy()\n",
    "tspan = [t_arr[0], t_arr[-1]]\n",
    "init = [x0, s0]\n",
    "pars = (q0, mu_max, Y, Ks, m,)\n",
    "sol = solve_ivp(ofmb.baranyifun_ode, tspan, init, args=(pars,), t_eval=t_arr, method='BDF', atol=1e-6, rtol=1e-9)\n",
    "\n",
    "plt.figure(figsize=(10,5))\n",
    "plt.plot(sol.t, sol.y[0,:], label='X')\n",
    "# plt.plot(sol.t, sol.y[1,:], label='S')\n",
    "plt.plot(df['Time'], df[reactor_arr[index]], label='data')\n",
    "plt.legend()\n",
    "\n",
    "\n",
    "S = sol.y[1,:]\n",
    "t = sol.t\n",
    "a_t = q0 / (q0 + np.exp(-mu_max * t))\n",
    "mu = mu_max * a_t * S / (Ks + S)\n",
    "\n",
    "print(mu_max * s0 / (Ks + s0))\n",
    "print(s0 / (Ks + s0))\n",
    "\n",
    "plt.figure(figsize=(10,5))\n",
    "plt.plot(t, mu, label='mu')\n",
    "plt.legend()\n",
    "\n",
    "plt.figure(figsize=(10,5))\n",
    "plt.plot(t, a_t, label='a(t)')\n",
    "plt.legend()"
   ]
  },
  {
   "cell_type": "code",
   "execution_count": null,
   "metadata": {},
   "outputs": [],
   "source": [
    "Xdata = df[reactor_arr[0]].to_numpy()\n",
    "Tdata = df['Time'].to_numpy()\n",
    "\n",
    "plt.figure(figsize=(10,5))\n",
    "plt.plot(Tdata, Xdata, label='data')\n",
    "\n",
    "plt.figure(figsize=(10,5))\n",
    "plt.plot(Tdata, np.log(Xdata), label='data')"
   ]
  }
 ],
 "metadata": {
  "kernelspec": {
   "display_name": "Python 3 (ipykernel)",
   "language": "python",
   "name": "python3"
  },
  "language_info": {
   "codemirror_mode": {
    "name": "ipython",
    "version": 3
   },
   "file_extension": ".py",
   "mimetype": "text/x-python",
   "name": "python",
   "nbconvert_exporter": "python",
   "pygments_lexer": "ipython3",
   "version": "3.8.11"
  },
  "orig_nbformat": 4,
  "vscode": {
   "interpreter": {
    "hash": "31f2aee4e71d21fbe5cf8b01ff0e069b9275f58929596ceb00d14d90e3e16cd6"
   }
  }
 },
 "nbformat": 4,
 "nbformat_minor": 2
}
