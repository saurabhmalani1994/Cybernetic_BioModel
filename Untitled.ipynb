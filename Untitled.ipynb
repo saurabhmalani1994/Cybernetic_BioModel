{
 "cells": [
  {
   "cell_type": "code",
   "execution_count": 10,
   "metadata": {
    "pycharm": {
     "is_executing": false
    }
   },
   "outputs": [],
   "source": [
    "import numpy as np\n",
    "import sympy as sp"
   ]
  },
  {
   "cell_type": "code",
   "execution_count": 11,
   "metadata": {
    "pycharm": {
     "is_executing": false
    }
   },
   "outputs": [],
   "source": [
    "from sympy import symbols\n",
    "Glu, Eth, Lac, O2 = symbols('Glu Eth Lac O2')\n",
    "Pyr, Ace, Gly, NAD_c, NADH_c, Mal_c, Asp_c, NAD_m, NADH_m, Mal_m, Asp_m, b = symbols('Pyr Ace Gly NAD_c NADH_C Mal_c Asp_c NAD_m NADH_m Mal_m Asp_m, B')\n",
    "c, xi, u, v, u1, v1, u2, v2 = symbols('c xi u v u1 v1 u2 v2')\n",
    "k1, km1, k2, k3, k4, k5, km5, k6, k7, k8, k9, k10, k11, k12, k13, k14, km = symbols('k1 km1 k2 k3 k4 k5 km5 k6 k7 k8 k9 k10 k11 k12 k13 k14 km')\n",
    "KM1, KMm1, KM2, KM3, KM4, KM5, KMm5, KM6, KM7, KM8, KM9, KM10, KM11, KM12, KM13, KMO2 = symbols('KM1 KMm1 KM2 KM3 KM4 KM5 KMm5 KM6 KM7 KM8 KM9 KM10 KM11 KM12 KM13 KMO2')\n",
    "KM_N, KM_NH, KI_P, KI_A, O2_sat = symbols('KM_N KM_NH KI_P KI_A O2_sat')\n",
    "e1, e2, e3, e4, e5, e6, e7, e8, e9, e10, e11, e12, e13, e14 = symbols('e1 e2 e3 e4 e5 e6 e7 e8 e9 e10 e11 e12 e13 e14')\n",
    "Y_GF, Y_GR, Y_ER, Y_GP = symbols('Y_GF Y_GR Y_ER Y_GP')\n",
    "a1, am1, a2, a3, a4, a5, am5, a6, a7, a8, a9, a10, a11, a12, a13, a14 = symbols('a1 am1 a2 a3 a4 a5 am5 a6 a7 a8 a9 a10 a11 a12 a13 a14')\n",
    "as_1, as_2, as_3, as_4, as_5, as_6, as_7, as_8, as_9, as_10, as_11, as_12, as_13, as_14 = symbols('as_1 as_2 as_3 as_4 as_5 as_6 as_7 as_8 as_9 as_10 as_11 as_12 as_13 as_14')\n",
    "beta1, beta2, beta3, beta4, beta5, beta6, beta7, beta8, beta9, beta10, beta11, beta12, beta13, beta14 = symbols('beta1 beta2 beta3 beta4 beta5 beta6 beta7 beta8 beta9 beta10 beta11 beta12 beta13 beta14')"
   ]
  },
  {
   "cell_type": "code",
   "execution_count": 12,
   "metadata": {
    "pycharm": {
     "is_executing": false
    }
   },
   "outputs": [
    {
     "name": "stdout",
     "text": [
      "(4, 1)\n",
      "(12, 1)\n",
      "(16, 1)\n",
      "(31, 1)\n"
     ],
     "output_type": "stream"
    }
   ],
   "source": [
    "from sympy import Matrix\n",
    "#Variables\n",
    "s = Matrix([[Glu], [Eth], [Lac], [O2]])\n",
    "m = Matrix([Pyr,Ace,Gly,NAD_c,NADH_c, Mal_c, Asp_c, NAD_m, NADH_m, Mal_m, Asp_m, b])\n",
    "y = Matrix([s,m])\n",
    "e = Matrix([e1, e2, e3, e4, e5, e6, e7, e8, e9, e10, e11, e12, e13, e14])\n",
    "x = Matrix([y,e,c])\n",
    "\n",
    "myVar = s, m, e, c\n",
    "\n",
    "#Parameters\n",
    "Y = Matrix([Y_GF, Y_GR, Y_ER, Y_GP])\n",
    "k = Matrix([k1, km1, k2, k3, k4, k5, km5, k6, k7, k8, k9, k10, k11, k12, k13, k14, km])\n",
    "KM = Matrix([KM1, KMm1, KM2, KM3, KM4, KM5, KMm5, KM6, KM7, KM8, KM9, KM10, KM11, KM12, KM13, KMO2, KM_N, KM_NH, KI_P, KI_A, O2_sat])\n",
    "a = Matrix([a1, am1, a2, a3, a4, a5, am5, a6, a7, a8, a9, a10, a11, a12, a13, a14])\n",
    "beta = Matrix([beta1, beta2, beta3, beta4, beta5, beta6, beta7, beta8, beta9, beta10, beta11, beta12, beta13, beta14])\n",
    "astar = Matrix([as_1, as_2, as_3, as_4, as_5, as_6, as_7, as_8, as_9, as_10, as_11, as_12, as_13, as_14])\n",
    "\n",
    "myPar = Y, k, KM, a, astar, beta\n",
    "\n",
    "print(s.shape)\n",
    "print(m.shape)\n",
    "print(y.shape)\n",
    "print(x.shape)\n",
    "\n",
    "DiagBeta = sp.diag(beta1, beta2, beta3, beta4, beta5, beta6, beta7, beta8, beta9, beta10, beta11, beta12, beta13, beta14)"
   ]
  },
  {
   "cell_type": "code",
   "execution_count": 13,
   "metadata": {
    "pycharm": {
     "is_executing": false
    }
   },
   "outputs": [],
   "source": [
    "u1, um1, u2, u3, u4, u5, um5, u6, u7, u8, u9, u10, u11, u12, u13, u14 = symbols('u1 um1 u2 u3 u4 u5 um5 u6 u7 u8 u9 u10 u11 u12 u13 u14 ')\n",
    "v1, vm1, v2, v3, v4, v5, vm5, v6, v7, v8, v9, v10, v11, v12, v13, v14 = symbols('v1 vm1 v2 v3 v4 v5 vm5 v6 v7 v8 v9 v10 v11 v12 v13 v14 ')\n",
    "u = Matrix([u1, um1, u2, u3, u4, u5, um5, u6, u7, u8, u9, u10, u11, u12, u13, u14])\n",
    "v = Matrix([v1, vm1, v2, v3, v4, v5, vm5, v6, v7, v8, v9, v10, v11, v12, v13, v14])\n",
    "\n",
    "u1_1, u1_2, u1_3, u1_4, u1_5 = symbols('u1_1 u1_2 u1_3 u1_4 u1_5')\n",
    "v1_1, v1_2, v1_3, v1_4, v1_5 = symbols('v1_1 v1_2 v1_3 v1_4 v1_5')\n",
    "u_1 = Matrix([u1_1, u1_2, u1_3, u1_4, u1_5])\n",
    "v_1 = Matrix([v1_1, v1_2, v1_3, v1_4, v1_5])\n",
    "\n",
    "u2_1, u2_m1, u2_2, u2_3, u2_4, u2_5, u2_m5, u2_6, u2_7, u2_8, u2_9, u2_10, u2_11, u2_12, u2_13, u2_14 = symbols('u2_1 u2_m1 u2_2 u2_3 u2_4 u2_5 u2_m5 u2_6 u2_7 u2_8 u2_9 u2_10 u2_11 u2_12 u2_13 u2_14')\n",
    "v2_1, v2_m1, v2_2, v2_3, v2_4, v2_5, v2_m5, v2_6, v2_7, v2_8, v2_9, v2_10, v2_11, v2_12, v2_13, v2_14 = symbols('v2_1 v2_m1 v2_2 v2_3 v2_4 v2_5 v2_m5 v2_6 v2_7 v2_8 v2_9 v2_10 v2_11 v2_12 v2_13 v2_14')\n",
    "u_2 = Matrix([u2_1, u2_m1, u2_2, u2_3, u2_4, u2_5, u2_m5, u2_6, u2_7, u2_8, u2_9, u2_10, u2_11, u2_12, u2_13, u2_14])\n",
    "v_2 = Matrix([v2_1, v2_m1, v2_2, v2_3, v2_4, v2_5, v2_m5, v2_6, v2_7, v2_8, v2_9, v2_10, v2_11, v2_12, v2_13, v2_14])\n",
    "\n",
    "DiagU = sp.diag(u1, u2, u3, u4, u5, u6, u7, u8, u9, u10, u11, u12, u13, u14)\n",
    "DiagU = DiagU.col_insert(1, Matrix([um1,0,0,0,0,0,0,0,0,0,0,0,0,0]))\n",
    "DiagU = DiagU.col_insert(6, Matrix([0,0,0,0,um5,0,0,0,0,0,0,0,0,0]))\n",
    "\n",
    "DiagU_2 = sp.diag(u2_1, u2_2, u2_3, u2_4, u2_5, u2_6, u2_7, u2_8, u2_9, u2_10, u2_11, u2_12, u2_13, u2_14)\n",
    "DiagU_2 = DiagU_2.col_insert(1, Matrix([u2_m1,0,0,0,0,0,0,0,0,0,0,0,0,0]))\n",
    "DiagU_2 = DiagU_2.col_insert(6, Matrix([0,0,0,0,u2_m5,0,0,0,0,0,0,0,0,0]))\n",
    "\n",
    "DiagU_1 = sp.diag(u1_1, u1_2, u1_3, u1_4, u1_5)\n",
    "\n",
    "DiagV = sp.diag(v1, vm1, v2, v3, v4, v5, vm5, v6, v7, v8, v9, v10, v11, v12, v13, v14, 1)\n",
    "DiagV_1 = sp.diag(v1_1, v1_2, v1_3, v1_4, v1_5)\n",
    "DiagV_2 = sp.diag(v2_1, v2_m1, v2_2, v2_3, v2_4, v2_5, v2_m5, v2_6, v2_7, v2_8, v2_9, v2_10, v2_11, v2_12, v2_13, v2_14, 1)"
   ]
  },
  {
   "cell_type": "code",
   "execution_count": 14,
   "metadata": {
    "pycharm": {
     "is_executing": false
    }
   },
   "outputs": [],
   "source": [
    "# Rates\n",
    "from sympy import Matrix\n",
    "\n",
    "r1 = k1 * e1 * (Ace/(KM1+Ace)) * (NADH_c/(KM_NH+NADH_c))\n",
    "rm1 = km1 * e1 * (Eth/(KMm1+Eth)) * (NAD_c/(KM_N+NAD_c))\n",
    "r2 = k2 * e2 * (Pyr/(KM2+Pyr)) * (NAD_m/(KM_N+NAD_m))\n",
    "r3 = k3* e3 * (Ace/(KM3+Ace)) * (NAD_c/(KM_N+NAD_c)) * (NAD_m/(KM_N+NAD_m))\n",
    "r4 = k4 * e4 * (Pyr/(KM4+Pyr)) * (NADH_c/(KM_NH+NADH_c))\n",
    "r5 = k5 * e5 * (Glu/(KM5+Glu)) * (NADH_c/(KM_NH+NADH_c))\n",
    "rm5 = km5 * e5 * (Gly/(KMm5+Gly)) * (NAD_c/(KM_N+NAD_c))\n",
    "r6 = k6 * e6 * (Glu/(KM6+Glu)) * (NAD_c/(KM_N+NAD_c))\n",
    "r7 = k7 * e7 * (Pyr/(KM7+Pyr))\n",
    "\n",
    "r8 = k8 * e8 * (Glu/(KM8+Glu)) * (NAD_c/(KM_N+NAD_c)) * (KI_P/(KI_P+Pyr)) * (KI_A/(KI_A+Ace))\n",
    "r9 = k9 * e9 * (Eth/(KM9+Eth)) * (NAD_c/(KM_N+NAD_c)) * (KI_P/(KI_P+Pyr)) * (KI_A/(KI_A+Ace))\n",
    "\n",
    "r10 = k10 * e10 * (Asp_c/(KM10+Asp_c)) * (NADH_c/(KM_NH+NADH_c))\n",
    "r11 = k11 * e11 * (Asp_m/(KM11+Asp_m))\n",
    "r12 = k12 * e12 * (Mal_m/(KM12+Mal_m)) * (NAD_m/(KM_N+NAD_m))\n",
    "r13 = k13 * e13 * (Mal_c/(KM13+Mal_c))\n",
    "\n",
    "r14 = k14 * e14 * (O2/(KMO2+O2)) * (NAD_m/(KM_NH+NAD_m))\n",
    "r15 = km * (O2_sat-O2)\n",
    "\n",
    "r = Matrix([r1, rm1, r2, r3, r4, r5, rm5, r6, r7, r8, r9, r10, r11, r12, r13, r14, r15])\n",
    "\n",
    "re1 = a1 * b * (Ace/(KM1+Ace)) * (NADH_c/(KM_NH+NADH_c))\n",
    "rem1 = am1 * b * (Eth/(KMm1+Eth)) * (NAD_c/(KM_N+NAD_c))\n",
    "re2 = a2 * b * (Pyr/(KM2+Pyr)) * (NAD_m/(KM_N+NAD_m))\n",
    "re3 = a3* b * (Ace/(KM3+Ace)) * (NAD_c/(KM_N+NAD_c)) * (NAD_m/(KM_N+NAD_m))\n",
    "re4 = a4 * b * (Pyr/(KM4+Pyr)) * (NADH_c/(KM_NH+NADH_c))\n",
    "re5 = a5 * b * (Glu/(KM5+Glu)) * (NADH_c/(KM_NH+NADH_c))\n",
    "rem5 = am5 * b * (Gly/(KMm5+Gly)) * (NAD_c/(KM_N+NAD_c))\n",
    "re6 = a6 * b * (Glu/(KM6+Glu)) * (NAD_c/(KM_N+NAD_c))\n",
    "re7 = a7 * b * (Pyr/(KM7+Pyr))\n",
    "\n",
    "re8 = a8 * b * (Glu/(KM8+Glu)) * (NAD_c/(KM_N+NAD_c))\n",
    "re9 = a9 * b * (Eth/(KM9+Eth)) * (NAD_c/(KM_N+NAD_c))\n",
    "\n",
    "re10 = a10 * b * (Asp_c/(KM10+Asp_c)) * (NADH_c/(KM_NH+NADH_c))\n",
    "re11 = a11 * b * (Asp_m/(KM11+Asp_m))\n",
    "re12 = a12 * b * (Mal_m/(KM12+Mal_m)) * (NAD_m/(KM_N+NAD_m))\n",
    "re13 = a13 * b * (Mal_c/(KM13+Mal_c))\n",
    "\n",
    "re14 = a14 * b * (O2/(KMO2+O2)) * (NAD_m/(KM_NH+NAD_m))\n",
    "\n",
    "re = Matrix([re1, rem1, re2, re3, re4, re5, rem5, re6, re7, re8, re9, re10, re11, re12, re13, re14])\n"
   ]
  },
  {
   "cell_type": "code",
   "execution_count": 15,
   "metadata": {
    "pycharm": {
     "is_executing": false
    }
   },
   "outputs": [
    {
     "name": "stdout",
     "text": [
      "(4, 17)\n",
      "(12, 17)\n",
      "(17, 5)\n",
      "(12, 1)\n"
     ],
     "output_type": "stream"
    }
   ],
   "source": [
    "S_S = Matrix([[0,  0, 0, 0, 0, -0.5, 0.5, -0.5, 0, -8.469,      0, 0, 0,    0, 0, 0, 0],\n",
    "              [1, -1, 0, 0, 0,    0,   0,    0, 0,      0, -20.33, 0, 0,    0, 0, 0, 0],\n",
    "              [0,  0, 0, 0, 0,    0,   0,    0, 0,      0,      0, 0, 0,    0, 0, 0, 0],\n",
    "              [0,  0, 0, 0, 0,    0,   0,    0, 0,      0,      0, 0, 0, -0.5, 0, 0, 1]\n",
    "             ])\n",
    "S_M = Matrix([[ 0,  0, -1,  0, -1,  0,  0,  1, -1,       0,       0,  0,  0,  0,  0,  0,  0],\n",
    "              [-1,  1,  0, -1,  0,  0,  0,  0,  1,       0,       0,  0,  0,  0,  0,  0,  0],\n",
    "              [ 0,  0,  0,  0,  0,  1, -1,  0,  0,       0,       0,  0,  0,  0,  0,  0,  0],\n",
    "              [ 1, -1,  0, -1,  1,  1, -1, -1,  0, -16.258, -36.588,  1,  0,  0,  0,  0,  0],\n",
    "              [-1,  1,  0,  1, -1, -1,  1,  1,  0,   16.26,   36.59, -1,  0,  0,  0,  0,  0],\n",
    "              [ 0,  0,  0,  0,  0,  0,  0,  0,  0,       0,       0,  1,  0,  0, -1,  0,  0],\n",
    "              [ 0,  0,  0,  0,  0,  0,  0,  0,  0,       0,       0, -1,  1,  0,  0,  0,  0],\n",
    "              [ 0,  0, -3, -3,  0,  0,  0,  0,  0,       0,       0,  0,  0, -1,  0,  1,  0],\n",
    "              [ 0,  0,  3,  3,  0,  0,  0,  0,  0,       0,       0,  0,  0,  1,  0, -1,  0],\n",
    "              [ 0,  0,  0,  0,  0,  0,  0,  0,  0,       0,       0,  0,  0, -1,  1,  0,  0],\n",
    "              [ 0,  0,  0,  0,  0,  0,  0,  0,  0,       0,       0,  0, -1,  1,  0,  0,  0],\n",
    "              [ 0,  0,  0,  0,  0,  0,  0,  0,  0,       1,       1,  0,  0,  0,  0,  0,  0],\n",
    "             ])\n",
    "Z = Matrix([[             1,              0,              0,              0,              0],\n",
    "            [             0,              0,              0,              1,              0],\n",
    "            [             0,              1,              1,              0,              0],\n",
    "            [             0,              0,              0,              1,              0],\n",
    "            [             0,              0,              0,              0,              1],\n",
    "            [     0.96*Y_GF,              0,              0,              0,      0.96*Y_GP],\n",
    "            [             0,              0,         1+Y_GR,              0,              0],\n",
    "            [             1,              1,              1,              0,              1],\n",
    "            [             1,              0,              0,              0,              0],\n",
    "            [(1/16.94)*Y_GF, (1/16.94)*Y_GR, (1/16.94)*Y_GR,              0, (1/16.94)*Y_GP],\n",
    "            [             0,              0,              0, (1/20.33)*Y_ER,              0],\n",
    "            [             0,    0.96*Y_GR+1,    1.96*Y_GR+2,     1.8*Y_ER+2,              0],\n",
    "            [             0,    0.96*Y_GR+1,    1.96*Y_GR+2,     1.8*Y_ER+2,              0],\n",
    "            [             0,    0.96*Y_GR+1,    1.96*Y_GR+2,     1.8*Y_ER+2,              0],\n",
    "            [             0,    0.96*Y_GR+1,    1.96*Y_GR+2,     1.8*Y_ER+2,              0],\n",
    "            [             0,    0.96*Y_GR+4,    1.96*Y_GR+5,     1.8*Y_ER+5,              0],\n",
    "            [             0,    0.48*Y_GR+1,  0.98*Y_GR+2.5,   0.9*Y_ER+2.5,              0],\n",
    "           ])\n",
    "h = Matrix([0.08806, 0.04405, 0.09209382, 0.66343, 0.66343, 0.134, 0.133, 0.66343, 0.66343, 0.134, 0.133, 1])\n",
    "print(S_S.shape)\n",
    "print(S_M.shape)\n",
    "print(Z.shape)\n",
    "print(h.shape)"
   ]
  },
  {
   "cell_type": "code",
   "execution_count": 16,
   "metadata": {
    "pycharm": {
     "is_executing": false
    }
   },
   "outputs": [
    {
     "name": "stdout",
     "text": [
      "(4, 17)\n",
      "(17, 17)\n",
      "(17, 1)\n",
      "(31, 1)\n"
     ],
     "output_type": "stream"
    }
   ],
   "source": [
    "print(S_S.shape)\n",
    "print(DiagV.shape)\n",
    "print(r.shape)\n",
    "\n",
    "mu = h.T * S_M * DiagV * r\n",
    "\n",
    "sdot = S_S * DiagV * r * c\n",
    "mdot = S_M * DiagV * r - m * mu\n",
    "edot = astar + DiagU * re - DiagBeta * e - e * mu\n",
    "cdot = c * mu\n",
    "\n",
    "F = Matrix([sdot,mdot,edot,cdot])\n",
    "print(F.shape)"
   ]
  },
  {
   "cell_type": "code",
   "execution_count": 17,
   "metadata": {
    "pycharm": {
     "is_executing": false
    }
   },
   "outputs": [],
   "source": [
    "q1, q2, q3, q4, q5 = 0, 0, 0, 0, 0\n",
    "q = Matrix([0, 0, 0, 0, 0])\n",
    "for k in range(5):\n",
    "    mysum = 0\n",
    "    for j in range(len(r)):\n",
    "        mysum += Z[j,k]*r[j]\n",
    "    q[k] = 1/mysum"
   ]
  },
  {
   "cell_type": "code",
   "execution_count": 18,
   "metadata": {
    "pycharm": {
     "is_executing": false
    }
   },
   "outputs": [
    {
     "name": "stdout",
     "text": [
      "(31, 1)\n",
      "(31, 5)\n",
      "(1, 31)\n",
      "(5, 1)\n"
     ],
     "output_type": "stream"
    }
   ],
   "source": [
    "mu = h.T * S_M * Z * DiagV_1 * q\n",
    "\n",
    "sdot = S_S * Z * DiagV_1 * q * c\n",
    "mdot = S_M * Z * DiagV_1 * q - m * mu\n",
    "edot = astar - DiagBeta * e - e * mu\n",
    "cdot = mu\n",
    "F = Matrix([sdot,mdot,edot,cdot])\n",
    "print(F.shape)\n",
    "\n",
    "B = F.jacobian(v_1)\n",
    "print(B.shape)\n",
    "phi = Matrix([c])\n",
    "phibyX = phi.jacobian(x)\n",
    "print(phibyX.shape)\n",
    "\n",
    "p_global = B.T * phibyX.T\n",
    "print(p_global.shape)"
   ]
  },
  {
   "cell_type": "code",
   "execution_count": 19,
   "metadata": {
    "pycharm": {
     "is_executing": false
    }
   },
   "outputs": [],
   "source": [
    "# from sympy.utilities.lambdify import lambdify\n",
    "# a0, a1, a2, a3, a4, a5, a6, a7, a8, a9 = symbols('a:10')\n",
    "# mysum = np.array([a0 + a2 + a4 + a6 + a8,\n",
    "#                   a1 + a3 + a5 + a7 + a9])\n",
    "# ain_1 = Matrix([a0,a1,a2,a3,a4])\n",
    "# ain_2 = Matrix([a5,a6,a7,a8,a9])\n",
    "\n",
    "# myFun = lambdify((ain_1,ain_2),mysum)\n",
    "\n",
    "# numin_1 = np.array([1,2,3,4,5])\n",
    "# numin_2 = np.array([6,7,8,9,10])\n",
    "\n",
    "# print(myFun(numin_1,numin_2))\n",
    "# a4 = 0\n",
    "# print(myFun(numin_1,numin_2))"
   ]
  },
  {
   "cell_type": "code",
   "execution_count": 20,
   "metadata": {
    "pycharm": {
     "is_executing": false
    }
   },
   "outputs": [],
   "source": [
    "from sympy.utilities.lambdify import lambdify\n",
    "p_global_fun = lambdify((myVar,myPar), p_global)\n",
    "r_fun = lambdify((myVar,myPar), r)\n",
    "re_fun = lambdify((myVar,myPar), re)\n",
    "F_fun = lambdify((myVar,myPar), F)\n",
    "B_fun = lambdify((myVar,myPar), B)\n",
    "phibyX = lambdify((myVar,myPar), phibyX)"
   ]
  },
  {
   "cell_type": "code",
   "execution_count": 21,
   "metadata": {
    "pycharm": {
     "is_executing": false
    }
   },
   "outputs": [
    {
     "name": "stdout",
     "text": [
      "[[           -inf -2.35628376e-03  4.80369139e-08  0.00000000e+00\n",
      "             -inf]\n",
      " [            inf  0.00000000e+00  0.00000000e+00 -2.01159626e-03\n",
      "   0.00000000e+00]\n",
      " [ 0.00000000e+00  0.00000000e+00  0.00000000e+00  0.00000000e+00\n",
      "   0.00000000e+00]\n",
      " [ 0.00000000e+00  1.38611666e-03  1.74373997e-03  1.77493788e-03\n",
      "   0.00000000e+00]\n",
      " [            nan -0.00000000e+00 -0.00000000e+00  0.00000000e+00\n",
      "              nan]\n",
      " [            nan -0.00000000e+00 -0.00000000e+00  0.00000000e+00\n",
      "              nan]\n",
      " [            nan -0.00000000e+00 -1.97623864e-03  0.00000000e+00\n",
      "              nan]\n",
      " [            nan  5.04042420e-07  2.11362421e-07  2.44457750e-07\n",
      "              nan]\n",
      " [            nan -2.74932229e-07 -1.15288593e-07 -1.62971833e-07\n",
      "              nan]\n",
      " [            nan -0.00000000e+00 -0.00000000e+00  0.00000000e+00\n",
      "              nan]\n",
      " [            nan -0.00000000e+00 -0.00000000e+00  0.00000000e+00\n",
      "              nan]\n",
      " [            nan -0.00000000e+00 -0.00000000e+00  0.00000000e+00\n",
      "              nan]\n",
      " [            nan -0.00000000e+00 -0.00000000e+00  0.00000000e+00\n",
      "              nan]\n",
      " [            nan -0.00000000e+00 -0.00000000e+00  0.00000000e+00\n",
      "              nan]\n",
      " [            nan -0.00000000e+00 -0.00000000e+00  0.00000000e+00\n",
      "              nan]\n",
      " [            nan  1.14555096e-04  4.80369139e-05  4.07429583e-05\n",
      "              nan]\n",
      " [            nan -0.00000000e+00  0.00000000e+00 -0.00000000e+00\n",
      "              nan]\n",
      " [            nan -0.00000000e+00  0.00000000e+00 -0.00000000e+00\n",
      "              nan]\n",
      " [            nan -0.00000000e+00  0.00000000e+00 -0.00000000e+00\n",
      "              nan]\n",
      " [            inf  1.13560023e-05 -1.32559726e-05  4.03890483e-06\n",
      "              inf]\n",
      " [            nan -0.00000000e+00  0.00000000e+00 -0.00000000e+00\n",
      "              nan]\n",
      " [            nan -0.00000000e+00  0.00000000e+00 -0.00000000e+00\n",
      "              nan]\n",
      " [            nan -0.00000000e+00  0.00000000e+00 -0.00000000e+00\n",
      "              nan]\n",
      " [            nan -0.00000000e+00  0.00000000e+00 -0.00000000e+00\n",
      "              nan]\n",
      " [            nan -0.00000000e+00  0.00000000e+00 -0.00000000e+00\n",
      "              nan]\n",
      " [            nan -0.00000000e+00  0.00000000e+00 -0.00000000e+00\n",
      "              nan]\n",
      " [            nan -0.00000000e+00  0.00000000e+00 -0.00000000e+00\n",
      "              nan]\n",
      " [            nan -0.00000000e+00  0.00000000e+00 -0.00000000e+00\n",
      "              nan]\n",
      " [            nan -0.00000000e+00  0.00000000e+00 -0.00000000e+00\n",
      "              nan]\n",
      " [            nan -0.00000000e+00  0.00000000e+00 -0.00000000e+00\n",
      "              nan]\n",
      " [            inf  1.14707094e-04 -1.33898713e-04  4.07970185e-05\n",
      "              inf]]\n",
      "c*(-0.979940968122786*Y_GF - 0.5)/(Ace*NADH_C*e1*k1/((Ace + KM1)*(KM_NH + NADH_C)) + 0.0590318772136954*Glu*KI_A*KI_P*NAD_c*Y_GF*e8*k8/((Ace + KI_A)*(Glu + KM8)*(KI_P + Pyr)*(KM_N + NAD_c)) + 0.96*Glu*NADH_C*Y_GF*e5*k5/((Glu + KM5)*(KM_NH + NADH_C)) + Glu*NAD_c*e6*k6/((Glu + KM6)*(KM_N + NAD_c)) + Pyr*e7*k7/(KM7 + Pyr))\n"
     ],
     "output_type": "stream"
    },
    {
     "name": "stderr",
     "text": [
      "<string>:4: RuntimeWarning: divide by zero encountered in double_scalars\n",
      "<string>:4: RuntimeWarning: divide by zero encountered in double_scalars\n",
      "<string>:4: RuntimeWarning: invalid value encountered in double_scalars\n"
     ],
     "output_type": "stream"
    }
   ],
   "source": [
    "# s = Matrix([[Glu], [Eth], [Lac], [O2]])\n",
    "# m = Matrix([Pyr,Ace,Gly,NAD_c,NADH_c, Mal_c, Asp_c, NAD_m, NADH_m, Mal_m, Asp_m, b])\n",
    "# y = Matrix([s,m])\n",
    "# e = Matrix([e1, e2, e3, e4, e5, e6, e7, e8, e9, e10, e11, e12, e13, e14])\n",
    "# x = Matrix([y,e,c])\n",
    "\n",
    "# myVar = s, m, e, c\n",
    "\n",
    "# Y = Matrix([Y_GF, Y_GR, Y_ER, Y_GP])\n",
    "# k = Matrix([k1, km1, k2, k3, k4, k5, km5, k6, k7, k8, k9, k10, k11, k12, k13, k14, km])\n",
    "# KM = Matrix([KM1, KMm1, KM2, KM3, KM4, KM5, KMm5, KM6, KM7, KM8, KM9, KM10, KM11, KM12, KM13, KMO2, KM_N, KM_NH, KI_P, KI_A, O2_sat])\n",
    "# a = Matrix([a1, am1, a2, a3, a4, a5, am5, a6, a7, a8, a9, a10, a11, a12, a13, a14])\n",
    "# beta = Matrix([beta1, beta2, beta3, beta4, beta5, beta6, beta7, beta8, beta9, beta10, beta11, beta12, beta13, beta14])\n",
    "# astar = Matrix([as_1, as_2, as_3, as_4, as_5, as_6, as_7, as_8, as_9, as_10, as_11, as_12, as_13, as_14])\n",
    "\n",
    "# myPar = Y, k, KM, a, astar, beta\n",
    "\n",
    "s = np.array([10,0,0,0])\n",
    "m = np.array([0,0,0,0,0,0,0,0,0,0,0,0])\n",
    "e = np.array([0.1,0.1,0.1,0.001,0.1,0.1,0.1,0.1,0.1,0.1,0.1,0.1,0.1,0.1])-0.1\n",
    "c = 1\n",
    "\n",
    "myVar_in = s, m, e, c\n",
    "\n",
    "Y = np.array([0.7, 0.7, 0.7, 0.7])\n",
    "k = np.array([1700, 340, 0.0000571, 0.00728, 410, 0.587, 0.587, 0.0271, \n",
    "              60, 0.03, 350, 0.77, 0.03157, 0.77, 0.03157, 500, 1000])\n",
    "KM = np.array([17, 1.1, 0.65, 0.28, 2.6, 34, 34, 0.099, \n",
    "               1.1, 0.1, 0.3, 0.04, 0.05, 0.04, 0.2, 0.1, 0.031, 0.031, 1.1, 17, 0.27])\n",
    "a = np.array([3, 3, 3, 3, 3/1000, 3, 3, 3, 3, 3, 3, 3, 3, 3, 3, 3])\n",
    "astar = np.array([3, 3, 3, 3/1000, 3, 3, 3, 3, 3, 3, 3, 3, 3, 3]) / 100\n",
    "Beta = np.array([0.05, 0.05, 0.05, 0.05, 0.05, 0.05, 0.05, 0.05, 0.05, 0.05, 0.05, 0.05, 0.05, 0.05]) / 3600\n",
    "myPar_in = Y, k, KM, a, astar, beta\n",
    "\n",
    "p_out = p_global_fun(myVar_in,myPar_in)\n",
    "p_out[p_out < 0] = 0\n",
    "# print(p_out)\n",
    "# print(p_out/max(p_out))\n",
    "print(B_fun(myVar_in,myPar_in))\n",
    "print(B[0,0])"
   ]
  },
  {
   "cell_type": "code",
   "execution_count": 21,
   "metadata": {
    "pycharm": {
     "is_executing": false
    }
   },
   "outputs": [],
   "source": []
  }
 ],
 "metadata": {
  "kernelspec": {
   "name": "python3",
   "language": "python",
   "display_name": "Python 3"
  },
  "language_info": {
   "codemirror_mode": {
    "name": "ipython",
    "version": 3
   },
   "file_extension": ".py",
   "mimetype": "text/x-python",
   "name": "python",
   "nbconvert_exporter": "python",
   "pygments_lexer": "ipython3",
   "version": "3.8.3"
  }
 },
 "nbformat": 4,
 "nbformat_minor": 4
}