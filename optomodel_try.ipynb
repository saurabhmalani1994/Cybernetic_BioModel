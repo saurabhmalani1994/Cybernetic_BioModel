{
 "cells": [
  {
   "cell_type": "code",
   "execution_count": 15,
   "metadata": {},
   "outputs": [],
   "source": [
    "import numpy as np"
   ]
  },
  {
   "cell_type": "code",
   "execution_count": 16,
   "metadata": {},
   "outputs": [],
   "source": [
    "def par_fun(tau_on=1., tau_off=0.2):\n",
    "    return tau_on, tau_off\n",
    "\n",
    "\n",
    "def ode_fun(t, var, pars):\n",
    "    tau_on, tau_off, u = pars\n",
    "\n",
    "    if u > var:\n",
    "        out = (u - var) / tau_on\n",
    "    else:\n",
    "        out =  (u - var) / tau_off\n",
    "\n",
    "    return out"
   ]
  },
  {
   "cell_type": "code",
   "execution_count": 42,
   "metadata": {},
   "outputs": [],
   "source": [
    "from scipy.integrate import solve_ivp\n",
    "\n",
    "u_arr = [1, 0, 1, 0, 1, 0]\n",
    "\n",
    "t_final = (len(u_arr) - 1) * 10\n",
    "t_arr = np.linspace(0, t_final, len(u_arr))\n",
    "tau_on, tau_off = par_fun(tau_on=1, tau_off=0.5)\n",
    "\n",
    "# u_arr = [0, 1]\n",
    "# t_arr = [0, 5]\n",
    "\n",
    "out = []\n",
    "out_t = []\n",
    "initial = [1]\n",
    "\n",
    "for i in range(len(t_arr) - 1):\n",
    "    # print(i)\n",
    "\n",
    "    t_span = [t_arr[i], t_arr[i+1]]\n",
    "    u_par = u_arr[i]\n",
    "    pars = tau_on, tau_off, u_par\n",
    "\n",
    "    # print(pars)\n",
    "    # print(initial)\n",
    "\n",
    "    sol = solve_ivp(ode_fun, t_span, initial, args=(pars,), \n",
    "                        rtol=1e-12, atol=1e-15, \n",
    "                        method='BDF'\n",
    "                    )\n",
    "    \n",
    "    initial = sol.y[:,-1]\n",
    "\n",
    "    out.append(sol.y[0])\n",
    "    out_t.append(sol.t)\n",
    "\n",
    "out = np.concatenate(out)\n",
    "out_t = np.concatenate(out_t)"
   ]
  },
  {
   "cell_type": "code",
   "execution_count": 43,
   "metadata": {},
   "outputs": [
    {
     "name": "stdout",
     "output_type": "stream",
     "text": [
      "(3378,)\n"
     ]
    }
   ],
   "source": [
    "print(out.shape)"
   ]
  },
  {
   "cell_type": "code",
   "execution_count": 44,
   "metadata": {},
   "outputs": [
    {
     "data": {
      "text/plain": [
       "[<matplotlib.lines.Line2D at 0x2b9dce2bf3d0>]"
      ]
     },
     "execution_count": 44,
     "metadata": {},
     "output_type": "execute_result"
    },
    {
     "data": {
      "image/png": "[encoded data removed]",
      "text/plain": [
       "<Figure size 432x288 with 1 Axes>"
      ]
     },
     "metadata": {
      "needs_background": "light"
     },
     "output_type": "display_data"
    }
   ],
   "source": [
    "import matplotlib.pyplot as plt\n",
    "\n",
    "plt.figure()\n",
    "plt.plot(out_t, out)"
   ]
  }
 ],
 "metadata": {
  "kernelspec": {
   "display_name": "Python 3.8.11 64-bit ('torch-env': conda)",
   "language": "python",
   "name": "python3811jvsc74a57bd08a298fcd4975270bf7de72dd497c9ffc6b9b23d9f9106b63cad7158b547d3724"
  },
  "language_info": {
   "codemirror_mode": {
    "name": "ipython",
    "version": 3
   },
   "file_extension": ".py",
   "mimetype": "text/x-python",
   "name": "python",
   "nbconvert_exporter": "python",
   "pygments_lexer": "ipython3",
   "version": "3.8.11"
  },
  "orig_nbformat": 4
 },
 "nbformat": 4,
 "nbformat_minor": 2
}
