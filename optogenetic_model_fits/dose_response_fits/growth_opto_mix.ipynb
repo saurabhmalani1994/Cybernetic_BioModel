{
 "cells": [
  {
   "cell_type": "code",
   "execution_count": 1,
   "metadata": {},
   "outputs": [
    {
     "name": "stdout",
     "output_type": "stream",
     "text": [
      "/home/smalani/Cybernetic\n"
     ]
    }
   ],
   "source": [
    "%cd /home/smalani/Cybernetic\n",
    "\n",
    "from growth import parFun as growth_parFun\n",
    "from growth import odeFun as growth_odeFun\n",
    "import numpy as np\n",
    "\n",
    "from gardner_opto import pulse_integrator\n",
    "import matplotlib.pyplot as plt\n",
    "import numpy as np\n"
   ]
  },
  {
   "cell_type": "code",
   "execution_count": 2,
   "metadata": {},
   "outputs": [],
   "source": [
    "def RK4_int(fun, t_span, y0, pars=None, t_step=0.1):\n",
    "    if pars is None:\n",
    "        int_fun = lambda t,y: fun(t,y)\n",
    "    else:\n",
    "        int_fun = lambda t,y: fun(t,y,*pars)\n",
    "\n",
    "a = RK4_int(growth_odeFun, [0,100], 0, pars=growth_parFun())"
   ]
  },
  {
   "cell_type": "code",
   "execution_count": 104,
   "metadata": {},
   "outputs": [
    {
     "name": "stdout",
     "output_type": "stream",
     "text": [
      "0.005692071795204232\n"
     ]
    }
   ],
   "source": [
    "def myf_small(var, pulse_on, pulse_period):\n",
    "    if pulse_on > pulse_period:\n",
    "        raise ValueError('pulse_period cannot be less than pulse_on')\n",
    "    tau_off=30\n",
    "    tau_on=5\n",
    "    n=4\n",
    "\n",
    "    pulse_off = pulse_period - pulse_on\n",
    "\n",
    "    var_dark = var\n",
    "\n",
    "    for i in range(1):\n",
    "\n",
    "        pulse_fun = lambda x: (x ** n) / (x ** n + tau_on ** n) - var_dark\n",
    "        # t_status = fsolve(pulse_fun, 0) % pulse_period\n",
    "        # if pulse_on < pulse_period and pulse_on > 0:\n",
    "        sol = root_scalar(pulse_fun, bracket=[0, 100000])\n",
    "        t_status = sol.root\n",
    "        # else:\n",
    "        #     t_status = 0\n",
    "\n",
    "        var_light = (pulse_on + t_status) ** n / ((pulse_on + t_status) ** n + tau_on ** n)\n",
    "\n",
    "        var_dark = var_light * np.exp(-(pulse_off / tau_off))\n",
    "\n",
    "    return var_dark - var\n",
    "\n",
    "def trans_mean_func(u, period):\n",
    "    sol = root_scalar(myf_small, bracket=[0,1], args=(period*u,period))\n",
    "    if u > 0:\n",
    "        t_step = min(period/1000,period*u)\n",
    "    else:\n",
    "        t_step = period/1000\n",
    "    t_out, act_out, light_out, light_time_out = pulse_integrator(pulse_on=u*period, \n",
    "                                                             pulse_period=period, \n",
    "                                                             t_start=0, \n",
    "                                                             t_end=period, \n",
    "                                                             act_init=sol.root, \n",
    "                                                             t_step=t_step)\n",
    "\n",
    "    act_mean = np.trapz(act_out, t_out) / period\n",
    "    return act_mean\n",
    "\n",
    "\n",
    "\n",
    "u = 0.01\n",
    "period = 100\n",
    "\n",
    "\n",
    "print(trans_mean_func(u, period))\n",
    "    "
   ]
  },
  {
   "cell_type": "code",
   "execution_count": 42,
   "metadata": {},
   "outputs": [
    {
     "name": "stdout",
     "output_type": "stream",
     "text": [
      "0.0010451694484451964\n",
      "-0.0033277839454767255\n"
     ]
    }
   ],
   "source": []
  },
  {
   "cell_type": "code",
   "execution_count": 22,
   "metadata": {},
   "outputs": [
    {
     "name": "stdout",
     "output_type": "stream",
     "text": [
      "[0.09090909090909091, 0.5]\n"
     ]
    }
   ],
   "source": [
    "alpha_e= 0.01 /10\n",
    "alpha_star_e = 0.001 /10\n",
    "beta_e = 0.002 /10\n",
    "\n",
    "alpha_p = 0.01\n",
    "beta_p = 0.0002\n",
    "\n",
    "K_p = 0.1\n",
    "\n",
    "t_frac = 1\n",
    "\n",
    "u_arr = [0, 1., 0.]\n",
    "\n",
    "\n",
    "\n",
    "def steady_state(act_mean):\n",
    "    e0 = (alpha_e*act_mean + alpha_star_e) / beta_e\n",
    "    # p0 = alpha_p * e0 / beta_p\n",
    "    # p0 = e0 * alpha_p / (beta_p * (K_p + e0))\n",
    "    p0 = (alpha_e*act_mean + alpha_star_e) / beta_e\n",
    "    E0 = e0 * beta_e / (alpha_e + alpha_star_e)\n",
    "    return [E0, p0]\n",
    "\n",
    "\n",
    "def enzyme_fun_light(t, vars, alpha_fun, u_fun, period):\n",
    "    E, p = vars\n",
    "\n",
    "    e = E * (alpha_e + alpha_star_e) / beta_e\n",
    "\n",
    "\n",
    "    dedt = alpha_e * alpha_fun(t) - beta_e * e + alpha_star_e\n",
    "    # dpdt = alpha_p * e - beta_p * p\n",
    "\n",
    "    dEdt = dedt * beta_e / (alpha_e + alpha_star_e)\n",
    "    dpdt = dEdt\n",
    "\n",
    "    return [dEdt, dpdt]\n",
    "\n",
    "print(steady_state(0))\n",
    "\n"
   ]
  },
  {
   "cell_type": "code",
   "execution_count": 16,
   "metadata": {},
   "outputs": [
    {
     "name": "stdout",
     "output_type": "stream",
     "text": [
      "[0.]\n",
      "The solution converged.\n",
      "shapity shape\n",
      "0.0\n"
     ]
    }
   ],
   "source": [
    "import numpy as np\n",
    "from scipy.interpolate import interp1d\n",
    "from scipy.integrate import solve_ivp\n",
    "from scipy.optimize import fsolve, root_scalar\n",
    "\n",
    "def myf_small(var, pulse_on, pulse_period):\n",
    "    if pulse_on > pulse_period:\n",
    "        raise ValueError('pulse_period cannot be less than pulse_on')\n",
    "    tau_off=30\n",
    "    tau_on=5\n",
    "    n=4\n",
    "\n",
    "    pulse_off = pulse_period - pulse_on\n",
    "\n",
    "    var_dark = var\n",
    "\n",
    "    for i in range(1):\n",
    "\n",
    "        pulse_fun = lambda x: (x ** n) / (x ** n + tau_on ** n) - var_dark\n",
    "        # t_status = fsolve(pulse_fun, 0) % pulse_period\n",
    "        if pulse_on < pulse_period and pulse_on > 0:\n",
    "            sol = root_scalar(pulse_fun, bracket=[0, 100000])\n",
    "            t_status = sol.root\n",
    "        else:\n",
    "            t_status = 0\n",
    "\n",
    "        var_light = (pulse_on + t_status) ** n / ((pulse_on + t_status) ** n + tau_on ** n)\n",
    "\n",
    "        var_dark = var_light * np.exp(-(pulse_off / tau_off))\n",
    "\n",
    "    return var_dark - var\n",
    "\n",
    "# pulse_on = 100\n",
    "# pulse_period = 100\n",
    "\n",
    "t_span = [0,1000*t_frac]\n",
    "u = u_arr[0]\n",
    "period = 100\n",
    "u0 = 0.5\n",
    "# [0.3476345637700329]\n",
    "\n",
    "# u = 0.056\n",
    "# period = 50\n",
    "# # [0.3426074974759692]\n",
    "\n",
    "# u = 0.05\n",
    "# period = 10\n",
    "# # [0.334279394092861]\n",
    "# u0 = 0.5\n",
    "\n",
    "# u = 0.3\n",
    "# period = 1000\n",
    "# # [0.3245610831875518]\n",
    "# u0 = 0.01\n",
    "\n",
    "u0, infodict, ier, mesg = fsolve(myf_small, u0, full_output=True, args=(period*u,period))\n",
    "\n",
    "\n",
    "print(u0)\n",
    "print(mesg)\n",
    "# u0 = 0.5\n",
    "\n",
    "t_out_arr, act_out_arr, light_out_arr, light_time_out_arr = [], [], [], []\n",
    "t_out, act_out, light_out, light_time_out = pulse_integrator(pulse_on=u*period, \n",
    "                                                             pulse_period=period, \n",
    "                                                             t_start=t_span[0], \n",
    "                                                             t_end=t_span[1], \n",
    "                                                             act_init=u0, \n",
    "                                                             t_step=0.1)\n",
    "t_out_arr.append(t_out)\n",
    "act_out_arr.append(act_out)\n",
    "light_out_arr.append(light_out)\n",
    "light_time_out_arr.append(light_time_out)\n",
    "\n",
    "print('shapity shape')\n",
    "period_len = int(act_out.size / (t_span[1] / period))\n",
    "act_mean = np.trapz(act_out[-period_len:], t_out[-period_len:],) / period\n",
    "print(act_mean)\n",
    "\n",
    "for i in range(len(u_arr) - 1):\n",
    "\n",
    "    t_span = np.array([0,30000*t_frac]) + t_span[-1]\n",
    "    u = u_arr[i+1]\n",
    "    period = 100\n",
    "    u0 = act_out[-1]\n",
    "    t_out, act_out, light_out, light_time_out = pulse_integrator(pulse_on=u*period, \n",
    "                                                                pulse_period=period, \n",
    "                                                                t_start=t_span[0], \n",
    "                                                                t_end=t_span[1], \n",
    "                                                                act_init=u0, \n",
    "                                                                t_step=0.1)\n",
    "    t_out_arr.append(t_out)\n",
    "    act_out_arr.append(act_out)\n",
    "    light_out_arr.append(light_out)\n",
    "    light_time_out_arr.append(light_time_out)\n",
    "\n",
    "t_out = np.concatenate(t_out_arr)\n",
    "act_out = np.concatenate(act_out_arr)\n",
    "light_out = np.concatenate(light_out_arr)\n",
    "light_time_out = np.concatenate(light_time_out_arr)\n",
    "\n",
    "alpha1_fun = interp1d(t_out, act_out)\n",
    "zero_line = np.zeros(light_time_out.shape)\n",
    "\n",
    "\n",
    "\n",
    "# e0 = [(alpha*u0 + alpha_star) / beta]\n",
    "# e0 = (alpha_e*act_mean + alpha_star_e) / beta_e\n",
    "# p0 = alpha_p * e0 / beta_p\n",
    "# e0 = [400]\n",
    "e0, p0 = steady_state(act_mean)\n",
    "\n",
    "t_span = [0,t_span[1]]\n",
    "\n",
    "sol = solve_ivp(enzyme_fun, t_span, [e0, e0], args=(alpha1_fun,), \n",
    "                    rtol=1e-12, atol=1e-15, \n",
    "                    method='BDF',\n",
    "                    first_step=0.1,\n",
    "                )\n",
    "    "
   ]
  },
  {
   "cell_type": "code",
   "execution_count": 17,
   "metadata": {},
   "outputs": [
    {
     "data": {
      "image/png": "[encoded data removed]",
      "text/plain": [
       "<Figure size 432x288 with 2 Axes>"
      ]
     },
     "metadata": {
      "needs_background": "light"
     },
     "output_type": "display_data"
    }
   ],
   "source": [
    "fig, ax = plt.subplots(constrained_layout=True)\n",
    "ax.plot(t_out/60/60, act_out, linewidth=3)\n",
    "ax.fill_between(light_time_out/60/60, light_out, zero_line, color='cyan', alpha=0.2)\n",
    "ax.set_ylabel('Transcription', fontsize=25)\n",
    "ax.set_xlabel('Time', fontsize=25)\n",
    "ax.tick_params(axis='both', labelsize =20)\n",
    "# ax.set_yticks(fontsize=20)\n",
    "\n",
    "ax2 = ax.twinx()\n",
    "ax2.plot(sol.t/60/60, sol.y[0], c='orange', linewidth=3)\n",
    "ax2.plot(sol.t/60/60, (sol.y[1])/(max(sol.y[1])), c='green', linewidth=3)\n",
    "# ax2.set_ylim([-0.1,1.1])\n",
    "ax2.tick_params(axis='both', labelsize =20)"
   ]
  },
  {
   "cell_type": "code",
   "execution_count": 19,
   "metadata": {},
   "outputs": [
    {
     "name": "stdout",
     "output_type": "stream",
     "text": [
      "0.09090909090909091\n"
     ]
    }
   ],
   "source": []
  }
 ],
 "metadata": {
  "interpreter": {
   "hash": "8a298fcd4975270bf7de72dd497c9ffc6b9b23d9f9106b63cad7158b547d3724"
  },
  "kernelspec": {
   "display_name": "Python [conda env:.conda-torch-env] *",
   "language": "python",
   "name": "python3"
  },
  "language_info": {
   "codemirror_mode": {
    "name": "ipython",
    "version": 3
   },
   "file_extension": ".py",
   "mimetype": "text/x-python",
   "name": "python",
   "nbconvert_exporter": "python",
   "pygments_lexer": "ipython3",
   "version": "3.8.11"
  },
  "orig_nbformat": 4
 },
 "nbformat": 4,
 "nbformat_minor": 2
}
