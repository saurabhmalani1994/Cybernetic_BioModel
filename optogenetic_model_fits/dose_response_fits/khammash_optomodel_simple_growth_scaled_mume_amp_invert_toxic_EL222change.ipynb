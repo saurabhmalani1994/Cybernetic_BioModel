{
 "cells": [
  {
   "cell_type": "code",
   "execution_count": 1,
   "metadata": {},
   "outputs": [],
   "source": [
    "import numpy as np\n",
    "from scipy.integrate import solve_ivp\n",
    "from scipy.optimize import root, fixed_point\n",
    "import matplotlib.pyplot as plt"
   ]
  },
  {
   "cell_type": "code",
   "execution_count": 2,
   "metadata": {},
   "outputs": [
    {
     "name": "stdout",
     "output_type": "stream",
     "text": [
      "0.478375 0.04203519639903277 8.080360096723108e-05\n"
     ]
    }
   ],
   "source": [
    "TFtot = 2000\n",
    "kon = 0.0016399 \n",
    "koff = 0.34393\n",
    "kbasal = 0.02612\n",
    "kmax = 13.588\n",
    "Kd = 956.75\n",
    "n = 4.203\n",
    "kdegR = 0.042116\n",
    "ktrans = 1.4514\n",
    "kdegP = 0.007\n",
    "\n",
    "p =  kon, TFtot, koff, kbasal, kmax, n, Kd, kdegR, ktrans, kdegP\n",
    "\n",
    "Kd_scaled = Kd / TFtot\n",
    "kmax_scaled = kmax * kdegR / (kbasal + kmax)\n",
    "kbasal_scaled = kbasal * kdegR / (kbasal + kmax)\n",
    "\n",
    "k_alpha = kon * 1000 / koff\n",
    "k_beta = koff \n",
    "\n",
    "p_scaled = k_alpha, k_beta, kbasal_scaled, kmax_scaled, n, Kd_scaled, kdegR\n",
    "\n",
    "print(Kd_scaled, kmax_scaled, kbasal_scaled)"
   ]
  },
  {
   "cell_type": "code",
   "execution_count": 3,
   "metadata": {},
   "outputs": [],
   "source": [
    "def khammash_ode_scaled(t,x,p_scaled,I):\n",
    "    if callable(I):\n",
    "        I = I(t)\n",
    "\n",
    "    # Parameters\n",
    "    k_alpha, k_beta, kbasal_scaled, kmax_scaled, n, Kd_scaled, kdegR = p_scaled\n",
    "\n",
    "    # Variables\n",
    "    TFon, mRNA = x\n",
    "    TFon = np.max([0,TFon])\n",
    "\n",
    "    # k_alpha = kon / koff\n",
    "    # k_beta = koff\n",
    "\n",
    "    dTFondt = (I * k_alpha * (1 - TFon) - TFon) * k_beta\n",
    "    # dTFondt = I * kon * (1 - TFon) - koff * TFon\n",
    "    dmRNAdt = kbasal_scaled + kmax_scaled * (TFon ** n) / ((Kd_scaled ** n) + (TFon ** n)) - kdegR * mRNA\n",
    "\n",
    "    return [dTFondt, dmRNAdt]\n",
    "\n",
    "\n",
    "def khammash_ode(t,x,p,I):\n",
    "    if callable(I):\n",
    "        I = I(t)\n",
    "\n",
    "    # Parameters\n",
    "    kon, TFtot, koff, kbasal, kmax, n, Kd, kdegR, ktrans, kdegP = p\n",
    "\n",
    "    # Variables\n",
    "    TFon, mRNA = x\n",
    "    TFon = np.max([0,TFon])\n",
    "    mRNA = mRNA * (kbasal + kmax) / kdegR\n",
    "\n",
    "    dTFondt = I * kon * (TFtot - (TFon  * TFtot)) - koff * (TFon  * TFtot)\n",
    "    dmRNAdt = kbasal + kmax * ((TFon  * TFtot) ** n) / ((Kd ** n) + ((TFon  * TFtot) ** n)) - kdegR * mRNA\n",
    "\n",
    "    dTFondt = dTFondt / TFtot\n",
    "    dmRNAdt = dmRNAdt * kdegR / (kbasal + kmax)\n",
    "\n",
    "    return [dTFondt, dmRNAdt]\n",
    "\n",
    "def fsolve_func(x,period,I,max_step):\n",
    "    tspan = [0,period]\n",
    "    sol = solve_ivp(khammash_ode, t_span=tspan, y0=x, args=(p_scaled,I),\n",
    "                        rtol=1e-9, atol=1e-12, \n",
    "                        # t_eval=np.linspace(tspan[0], tspan[1], 1000000), \n",
    "                        method='BDF',\n",
    "                        first_step = 0.0001,\n",
    "                        max_step=max_step,\n",
    "                        )\n",
    "    # return (sol.y[:,-1] - x[:])\n",
    "    return sol.y[:,-1]\n",
    "    # return (sol.y[:,-1] - x) * [1/10,10]\n",
    "\n",
    "def fsolve_func_scaled(x,period,I,max_step):\n",
    "    tspan = [0,period]\n",
    "    sol = solve_ivp(khammash_ode_scaled, t_span=tspan, y0=x, args=(p_scaled,I),\n",
    "                        rtol=1e-9, atol=1e-12, \n",
    "                        # t_eval=np.linspace(tspan[0], tspan[1], 1000000), \n",
    "                        method='BDF',\n",
    "                        first_step = 0.0001,\n",
    "                        max_step=max_step,\n",
    "                        )\n",
    "    return (sol.y[:,-1] - x[:])\n",
    "    # return sol.y[:,-1]\n",
    "    # return (sol.y[:,-1] - x) * [1/10,10]\n",
    "\n",
    "def I_fun_base(t, u, period, Imax):\n",
    "    remainder = t - np.floor(t/period) * period\n",
    "    I_out = np.zeros(np.array(t).size)\n",
    "    I_out[remainder < u * period] = Imax\n",
    "    return I_out\n",
    "\n",
    "def steady_mRNA_solve(u, period, Imax, x_guess=None):\n",
    "\n",
    "    I = lambda t: I_fun_base(t, u, period, Imax)\n",
    "\n",
    "    if x_guess is None:\n",
    "        x_guess = [u,u]\n",
    "\n",
    "    if u > 0:\n",
    "        max_step = u*period\n",
    "    else:\n",
    "        max_step = period / 10\n",
    "\n",
    "    # try:\n",
    "    #     sol = fixed_point(fsolve_func_scaled, x_guess, args=(period,I,max_step), xtol=1e-9, maxiter=5000)\n",
    "    # except:\n",
    "    #     print('first one failed')\n",
    "    #     x_guess = [u,u]\n",
    "    #     sol = fixed_point(fsolve_func_scaled, x_guess, args=(period,I,max_step/10), xtol=1e-9, maxiter=5000)\n",
    "    # steady = sol\n",
    "\n",
    "\n",
    "    sol = root(fsolve_func_scaled, x_guess, args=(period,I,max_step), tol=1e-9)\n",
    "    if not sol.success:\n",
    "        x_guess = [u,u]\n",
    "        sol = root(fsolve_func_scaled, x_guess, args=(period,I,max_step), tol=1e-9)\n",
    "\n",
    "    steady = np.maximum(sol.x,[0,0])\n",
    "    tspan = [0,period]\n",
    "    sol = solve_ivp(khammash_ode_scaled, t_span=tspan, y0=steady, args=(p_scaled,I),\n",
    "                        rtol=1e-9, atol=1e-12, \n",
    "                        # t_eval=np.linspace(tspan[0], tspan[1], 1000000), \n",
    "                        method='BDF',\n",
    "                        first_step = 0.0001,\n",
    "                        max_step=max_step,\n",
    "                        )\n",
    "    steady = np.trapz(sol.y, x=sol.t) / period\n",
    "\n",
    "    return steady#, sol.success, sol.message, sol.fun\n",
    "\n",
    "def opto_growth(t,x,p,u,TF_fun):\n",
    "        # print(p)\n",
    "        # assert False    \n",
    "\n",
    "    # Parameters\n",
    "    EL222Pars, commonPars, ampPars, invertPars = p\n",
    "    k_alpha, k_beta, kbasal_scaled, kmax_scaled, n, Kd_scaled, kdegR = EL222Pars\n",
    "    kdegPPDC, Ks, Y, KI_PDC, nI_PDC = commonPars\n",
    "    mu_max_amp, k_trans_Amp, kdeg_Amp, K_Amp, n_Amp, k_trans_PDC_amp = ampPars\n",
    "    mu_max_invert, k_trans_Rep, kdeg_Rep, K_Rep, n_Rep, k_trans_PDC_invert = invertPars\n",
    "\n",
    "    x_guess = x\n",
    "    global setpoint\n",
    "\n",
    "    tau_mRNA = 1 / kdegR\n",
    "\n",
    "    # Variables\n",
    "    mRNA_invert, mRNA_amp, Rep, Amp, Enz_invert, Enz_amp, S, X_invert, X_amp = x\n",
    "    S = np.max(S,0)\n",
    "    Enz_invert = np.max((Enz_invert,0))\n",
    "    Enz_amp = np.max((Enz_amp,0))\n",
    "    Rep = np.max((Rep,0))\n",
    "    Amp = np.max((Amp,0))\n",
    "\n",
    "    mu_x_invert = mu_max_invert * Enz_invert * S / (Ks + S) * ((KI_PDC ** nI_PDC) / (KI_PDC ** nI_PDC + Enz_invert ** nI_PDC + 1e-10))\n",
    "    mu_x_amp = mu_max_amp * Enz_amp * S / (Ks + S) * ((KI_PDC ** nI_PDC) / (KI_PDC ** nI_PDC + Enz_amp ** nI_PDC + 1e-10))\n",
    "\n",
    "    TF = TF_fun(u)\n",
    "    mRNAsetpoint = kbasal_scaled + kmax_scaled * (TF ** n) / ((Kd_scaled ** n) + (TF ** n)) / kdegR\n",
    "\n",
    "    dmRNA_invert_dt = (mRNAsetpoint - mRNA_invert) / tau_mRNA\n",
    "    dmRNA_amp_dt = (mRNAsetpoint - mRNA_amp) / tau_mRNA\n",
    "\n",
    "    \n",
    "    dRepdt = k_trans_Rep * mRNA_invert * S / (Ks + S) - (kdeg_Rep + mu_x_invert) * Rep\n",
    "    dEnz_invert_dt = k_trans_PDC_invert * (K_Rep ** n_Rep / (K_Rep ** n_Rep + Rep ** n_Rep)) * S / (Ks + S) - (kdegPPDC + mu_x_invert) * Enz_invert\n",
    "\n",
    "    \n",
    "    dAmpdt = k_trans_Amp * mRNA_amp * S / (Ks + S) - (kdeg_Amp + mu_x_amp) * Amp\n",
    "    dEnz_amp_optodt = k_trans_PDC_amp * (Amp ** n_Amp / (K_Amp ** n_Amp + Amp ** n_Amp)) * S / (Ks + S) - (kdegPPDC + mu_x_amp) * Enz_amp\n",
    "\n",
    "    dSdt = - (mu_x_invert / Y) * X_invert - (mu_x_amp / Y) * X_amp\n",
    "    dX_invert_dt = mu_x_invert * X_invert\n",
    "    dX_amp_dt = mu_x_amp * X_amp\n",
    "\n",
    "    # names = ['mRNA_invert', 'mRNA_amp', 'Rep', 'Amp', 'Enz_invert', 'Enz_amp', 'S', 'X_invert', 'X_amp']\n",
    "    # for var, name in zip([mRNA_invert, mRNA_amp, Rep, Amp, Enz_invert, Enz_amp, S, X_invert, X_amp], names):\n",
    "    #     if var<0:\n",
    "    #         print('BIOOPY', name)\n",
    "    #         assert False\n",
    "\n",
    "\n",
    "\n",
    "    return [dmRNA_invert_dt, dmRNA_amp_dt, dRepdt, dAmpdt, dEnz_invert_dt, dEnz_amp_optodt, dSdt, dX_invert_dt, dX_amp_dt]\n"
   ]
  },
  {
   "cell_type": "code",
   "execution_count": 4,
   "metadata": {},
   "outputs": [
    {
     "name": "stderr",
     "output_type": "stream",
     "text": [
      "100%|██████████| 101/101 [02:19<00:00,  1.38s/it]\n"
     ]
    }
   ],
   "source": [
    "from tqdm import tqdm\n",
    "from scipy.interpolate import interp1d\n",
    "\n",
    "run = True\n",
    "if run:\n",
    "    u_arr = np.flip(np.concatenate((np.array([0]),10 ** np.linspace(-3,0,100))))\n",
    "\n",
    "    # u_arr = np.flip(10 ** np.linspace(-1,0,100))\n",
    "    Enz_arr = np.zeros(u_arr.size)\n",
    "    mRNA_arr = np.zeros(u_arr.size)\n",
    "    TF_arr = np.zeros(u_arr.size)\n",
    "\n",
    "    setpoint = None\n",
    "    for i, u in tqdm(enumerate(u_arr), total=u_arr.size):\n",
    "        # print(u)\n",
    "        period = 100 / 60\n",
    "        Imax = 1\n",
    "        out = steady_mRNA_solve(u, period, Imax, x_guess=setpoint)\n",
    "        mRNA_arr[i] = out[1]\n",
    "        TF_arr[i] = out[0]\n",
    "\n",
    "mRNA_fun = interp1d(u_arr, mRNA_arr, kind='cubic')\n",
    "TF_fun = interp1d(u_arr, TF_arr, kind='cubic')\n"
   ]
  },
  {
   "cell_type": "code",
   "execution_count": 5,
   "metadata": {},
   "outputs": [
    {
     "data": {
      "text/plain": [
       "[<matplotlib.lines.Line2D at 0x150d3e35be80>]"
      ]
     },
     "execution_count": 5,
     "metadata": {},
     "output_type": "execute_result"
    },
    {
     "data": {
      "image/png": "[encoded data removed]",
      "text/plain": [
       "<Figure size 350x350 with 1 Axes>"
      ]
     },
     "metadata": {},
     "output_type": "display_data"
    }
   ],
   "source": [
    "# dmRNAdt = kbasal_scaled + kmax_scaled * (TFon ** n) / ((Kd_scaled ** n) + (TFon ** n)) - kdegR * mRNA\n",
    "mRNA_arr_myownss = kbasal_scaled + kmax_scaled * (TF_arr ** n) / ((Kd_scaled ** n) + (TF_arr ** n)) / kdegR\n",
    "\n",
    "fig = plt.figure(figsize=(3.5,3.5))\n",
    "ax = fig.add_subplot(111)\n",
    "ax.scatter(mRNA_arr, mRNA_arr_myownss, label='mRNA steady state')\n",
    "ax.plot([0,1],[0,1], color='black', linestyle='--')"
   ]
  },
  {
   "cell_type": "code",
   "execution_count": 6,
   "metadata": {},
   "outputs": [
    {
     "name": "stdout",
     "output_type": "stream",
     "text": [
      "(4.768121420056406, 0.34393, 8.080360096723108e-05, 0.04203519639903277, 4.203, 0.478375, 0.042116)\n",
      "(1038.7404294400537, 0.05, 0.5, 1, 2)\n",
      "(1, 1741.2340490667561, 173.1234049066756, 0.01, 0.7, 1039.7404294400537)\n",
      "(1.0, 174.1234049066756, 173.1234049066756, 0.4, 0.8, 5198.702147200269)\n"
     ]
    },
    {
     "name": "stderr",
     "output_type": "stream",
     "text": [
      "100%|██████████| 101/101 [00:00<00:00, 536.27it/s]\n"
     ]
    }
   ],
   "source": [
    "# assert False\n",
    "\n",
    "# EL222 Parameters\n",
    "TFtot = 2000\n",
    "kon = 0.0016399 \n",
    "koff = 0.34393\n",
    "kbasal = 0.02612\n",
    "kmax = 13.588\n",
    "Kd = 956.75\n",
    "n = 4.203\n",
    "kdegR = 0.042116\n",
    "ktrans = 1.4514\n",
    "kdegP = 0.007\n",
    "\n",
    "Kd_scaled = Kd / TFtot\n",
    "kmax_scaled = kmax * kdegR / (kbasal + kmax)\n",
    "kbasal_scaled = kbasal * kdegR / (kbasal + kmax)\n",
    "\n",
    "k_alpha = kon * 1000 / koff\n",
    "k_beta = koff \n",
    "\n",
    "EL222Pars = k_alpha, k_beta, kbasal_scaled, kmax_scaled, n, Kd_scaled, kdegR\n",
    "\n",
    "# Common Parameters\n",
    "# kdegR = 0.042116\n",
    "# kdegP = 12 / np.log(2) * 60\n",
    "kdegPPDC = 12 / np.log(2) * 60\n",
    "Ks = 0.05\n",
    "Y = 0.5\n",
    "nI_PDC = 2\n",
    "KI_PDC = 1\n",
    "commonPars = kdegPPDC, Ks, Y, KI_PDC, nI_PDC\n",
    "\n",
    "# Invert Parameters\n",
    "kdeg_Rep = 2 / np.log(2) * 60\n",
    "K_Rep = 0.01\n",
    "n_Rep = 0.7\n",
    "mu_max_invert = 1\n",
    "k_trans_Rep = (mu_max_invert + kdeg_Rep) * 10\n",
    "k_trans_PDC_invert = (mu_max_invert + kdegPPDC) * 1\n",
    "invertPars = mu_max_invert, k_trans_Rep, kdeg_Rep, K_Rep, n_Rep, k_trans_PDC_invert\n",
    "\n",
    "# Amp Parameters\n",
    "kdeg_Amp = 2 / np.log(2) * 60\n",
    "K_Amp = 0.4\n",
    "mu_max_amp = 1.\n",
    "n_Amp = 0.8\n",
    "k_trans_Amp = mu_max_amp + kdeg_Amp\n",
    "k_trans_PDC_amp = (mu_max_amp + kdegPPDC) * 5\n",
    "ampPars = mu_max_amp, k_trans_Amp, kdeg_Amp, K_Amp, n_Amp, k_trans_PDC_amp\n",
    "\n",
    "p = EL222Pars, commonPars, ampPars, invertPars\n",
    "\n",
    "guesses = ([1, 0, 1, 0], [0, 1, 0, 1], [0, 0, 0, 0], [1, 1, 1, 1])\n",
    "\n",
    "print(EL222Pars)\n",
    "print(commonPars)\n",
    "print(invertPars)\n",
    "print(ampPars)\n",
    "\n",
    "if True:\n",
    "    lastsol = [1, 1, 1, 1]\n",
    "    steady_state = []\n",
    "    for i, u in tqdm(enumerate(u_arr), total=u_arr.size):\n",
    "        def rootfunc(x):\n",
    "            S = 2\n",
    "            X_invert = 0.01\n",
    "            X_amp = 0.01\n",
    "            TF = TF_fun(u)\n",
    "            # print(u,TF)\n",
    "            # assert False\n",
    "            mRNAsetpoint = kbasal_scaled + kmax_scaled * (TF ** n) / ((Kd_scaled ** n) + (TF ** n)) / kdegR\n",
    "            mRNA_invert = mRNAsetpoint\n",
    "            mRNA_amp = mRNAsetpoint\n",
    "            Rep, Amp, Enz_invert, Enz_amp = x\n",
    "            x_in = mRNA_invert, mRNA_amp, Rep, Amp, Enz_invert, Enz_amp, S, X_invert, X_amp\n",
    "            return opto_growth(0,x_in,p, u, TF_fun)[2:-3]\n",
    "        output = root(rootfunc, lastsol, tol=1e-10, method='hybr')\n",
    "        if output.success is False:\n",
    "            for i in range(4):\n",
    "                guess = guesses[i]\n",
    "                output = root(rootfunc, guess, tol=1e-10, method='hybr')\n",
    "                if output.success:\n",
    "                    lastsol = output.x\n",
    "                    break\n",
    "            if output.success is False:\n",
    "                for i in range(100):\n",
    "                    guess = np.random.uniform(0,1,4)\n",
    "                    output = root(rootfunc, guess, tol=1e-10, method='hybr')\n",
    "                    if output.success:\n",
    "                        lastsol = output.x\n",
    "                        break\n",
    "            steady_state.append(output.x)\n",
    "        else:\n",
    "            lastsol = output.x\n",
    "            steady_state.append(output.x)\n",
    "    steady_state = np.array(steady_state)"
   ]
  },
  {
   "cell_type": "code",
   "execution_count": 7,
   "metadata": {},
   "outputs": [],
   "source": [
    "Rep_ss, Amp_ss, Enz_invert_ss, Enz_amp_ss = steady_state.T\n",
    "mu_amp = mu_max_amp * Enz_amp_ss * 2 / (Ks + 2) * ((KI_PDC ** nI_PDC) / (KI_PDC ** nI_PDC + Enz_amp_ss ** nI_PDC + 1e-10))\n",
    "mu_invert = mu_max_invert * Enz_invert_ss * 2 / (Ks + 2) * ((KI_PDC ** nI_PDC) / (KI_PDC ** nI_PDC + Enz_invert_ss ** nI_PDC + 1e-10))"
   ]
  },
  {
   "cell_type": "code",
   "execution_count": 8,
   "metadata": {},
   "outputs": [],
   "source": [
    "amp_data = np.array([0.120837503, 0.123422835, 0.180854158, 0.19976335, 0.212471916, 0.262908006, 0.265834766, 0.308231875, 0.300134524, 0.307690564, 0.349198597, 0.235627624, 0.328256455, 0.256070133, 0.271335288, 0.18874746, 0.170414488, 0.133141302])\n",
    "amp_lights = np.array([1, 1, 3, 3, 6, 6, 8, 8, 10, 10, 10, 20, 20, 40, 40, 70, 70, 100]) / 100\n",
    "\n",
    "invert_data = np.array([0.259118174, 0.249223514, 0.251594487, 0.163109986, 0.116035613, 0.071939681, 0.064949075, 0.089238774, 0.08784264, 1E-10, 0.0414111, 0.040288699, 0.033536204])\n",
    "invert_lights = np. array([0, 0, 1, 1.667, 1.667, 5, 5, 5, 5, 100, 100, 100, 100])/100"
   ]
  },
  {
   "cell_type": "code",
   "execution_count": 9,
   "metadata": {},
   "outputs": [
    {
     "data": {
      "image/png": "[encoded data removed]",
      "text/plain": [
       "<Figure size 1200x600 with 2 Axes>"
      ]
     },
     "metadata": {},
     "output_type": "display_data"
    }
   ],
   "source": [
    "import matplotlib.pyplot as plt\n",
    "\n",
    "fig = plt.figure(figsize=(12,6))\n",
    "ax = fig.add_subplot(121)\n",
    "ax.plot(u_arr, mu_amp, label='Amp', color='blue', linewidth=2)\n",
    "ax.scatter(amp_lights, amp_data, color='blue', marker='o', s=50)\n",
    "ax.set_xscale('symlog', linthresh=0.01)\n",
    "\n",
    "ax = fig.add_subplot(122)\n",
    "ax.plot(u_arr, mu_invert, label='Invert', color='red', linewidth=2)\n",
    "ax.scatter(invert_lights, invert_data, color='red', marker='o', s=50)\n",
    "ax.set_xscale('symlog', linthresh=0.01)"
   ]
  },
  {
   "cell_type": "code",
   "execution_count": 10,
   "metadata": {},
   "outputs": [],
   "source": [
    "# assert False"
   ]
  },
  {
   "cell_type": "code",
   "execution_count": 96,
   "metadata": {},
   "outputs": [],
   "source": [
    "def makessDoseRespCurve(p, u_input, TF_fun, Ks=1):\n",
    "    kdegPPDC = 12 / np.log(2) * 60\n",
    "    kdegR = 0.042116\n",
    "    kdeg_Rep = 2 / np.log(2) * 60\n",
    "    kdeg_Amp = 2 / np.log(2) * 60\n",
    "    Y = 0.5\n",
    "    # Ks = 1\n",
    "    k_alpha, k_beta, kbasal_scaled, kmax_scaled, n, Kd_scaled, KI_PDC, nI_PDC, mu_max_invert, k_trans_Rep, K_Rep, n_Rep, k_trans_PDC_invert, mu_max_amp, k_trans_Amp, K_Amp, n_Amp, k_trans_PDC_amp = p\n",
    "\n",
    "    EL222Pars = k_alpha, k_beta, kbasal_scaled, kmax_scaled, n, Kd_scaled, kdegR\n",
    "    commonPars = kdegPPDC, Ks, Y, KI_PDC, nI_PDC\n",
    "    invertPars = mu_max_invert, k_trans_Rep, kdeg_Rep, K_Rep, n_Rep, k_trans_PDC_invert\n",
    "    ampPars = mu_max_amp, k_trans_Amp, kdeg_Amp, K_Amp, n_Amp, k_trans_PDC_amp\n",
    "    p_in = EL222Pars, commonPars, ampPars, invertPars\n",
    "\n",
    "    # print(EL222Pars)\n",
    "    # print(commonPars)\n",
    "    # print(ampPars)\n",
    "    # print(invertPars)\n",
    "    # assert False\n",
    "\n",
    "    lastsol = [1, 1, 1, 1]\n",
    "    steady_state = []\n",
    "    for i, u in enumerate(u_input):\n",
    "        def rootfunc(x):\n",
    "            S = 2\n",
    "            X_invert = 0.01\n",
    "            X_amp = 0.01\n",
    "            TF = TF_fun(u)\n",
    "            # print(u,TF)\n",
    "            # assert False\n",
    "            mRNAsetpoint = kbasal_scaled + kmax_scaled * (TF ** n) / ((Kd_scaled ** n) + (TF ** n)) / kdegR\n",
    "            mRNA_invert = mRNAsetpoint\n",
    "            mRNA_amp = mRNAsetpoint\n",
    "            Rep, Amp, Enz_invert, Enz_amp = x\n",
    "            x_in = mRNA_invert, mRNA_amp, Rep, Amp, Enz_invert, Enz_amp, S, X_invert, X_amp\n",
    "            return opto_growth(0,x_in,p_in, u, TF_fun)[2:-3]\n",
    "        output = root(rootfunc, lastsol, tol=1e-10, method='hybr')\n",
    "        if output.success is False:\n",
    "            for i in range(4):\n",
    "                guess = guesses[i]\n",
    "                output = root(rootfunc, guess, tol=1e-10, method='hybr')\n",
    "                if output.success:\n",
    "                    lastsol = output.x\n",
    "                    break\n",
    "            if output.success is False:\n",
    "                for i in range(100):\n",
    "                    guess = np.random.uniform(0,1,4)\n",
    "                    output = root(rootfunc, guess, tol=1e-10, method='hybr')\n",
    "                    if output.success:\n",
    "                        lastsol = output.x\n",
    "                        break\n",
    "            steady_state.append(output.x)\n",
    "        else:\n",
    "            lastsol = output.x\n",
    "            steady_state.append(output.x)\n",
    "    steady_state = np.array(steady_state)\n",
    "    return steady_state\n",
    "\n",
    "# mRNA_invert, mRNA_amp, Rep, Amp, Enz_invert, Enz_amp, S, X_invert, X_amp = x"
   ]
  },
  {
   "cell_type": "code",
   "execution_count": 49,
   "metadata": {},
   "outputs": [],
   "source": [
    "# EL222 Parameters\n",
    "TFtot = 2000\n",
    "kon = 0.0016399 \n",
    "koff = 0.34393\n",
    "kbasal = 0.02612\n",
    "kmax = 13.588\n",
    "Kd = 956.75\n",
    "n = 4.203\n",
    "kdegR = 0.042116\n",
    "ktrans = 1.4514\n",
    "kdegP = 0.007\n",
    "\n",
    "Kd_scaled = Kd / TFtot\n",
    "kmax_scaled = kmax * kdegR / (kbasal + kmax)\n",
    "kbasal_scaled = kbasal * kdegR / (kbasal + kmax)\n",
    "\n",
    "k_alpha = kon * 1000 / koff\n",
    "k_beta = koff \n",
    "\n",
    "# k_alpha = 4.59274930e+01\n",
    "# k_beta = 1.39925875e+00\n",
    "kbasal_scaled = 9.60772093e-05\n",
    "kmax_scaled = 4.49896402e-02\n",
    "n = 1.78509721e+00\n",
    "Kd_scaled = 9.99975063e+00\n",
    "\n",
    "EL222Pars = k_alpha, k_beta, kbasal_scaled, kmax_scaled, n, Kd_scaled, kdegR\n",
    "\n",
    "# Common Parameters\n",
    "# kdegR = 0.042116\n",
    "# kdegP = 12 / np.log(2) * 60\n",
    "kdegPPDC = 12 / np.log(2) * 60\n",
    "Ks = 1\n",
    "Y = 0.5\n",
    "nI_PDC = 2\n",
    "KI_PDC = 1\n",
    "\n",
    "KI_PDC = 0.894579641\n",
    "nI_PDC = 10.0328925\n",
    "\n",
    "commonPars = kdegPPDC, Ks, Y, KI_PDC, nI_PDC\n",
    "\n",
    "# Invert Parameters\n",
    "kdeg_Rep = 2 / np.log(2) * 60\n",
    "K_Rep = 0.01\n",
    "n_Rep = 0.7\n",
    "mu_max_invert = 1\n",
    "k_trans_Rep = (mu_max_invert + kdeg_Rep) * 10\n",
    "k_trans_PDC_invert = (mu_max_invert + kdegPPDC) * 1\n",
    "\n",
    "mu_max_invert = 1.29586951\n",
    "k_trans_Rep = 16344.2641\n",
    "K_Rep = 0.00638750128\n",
    "n_Rep = 0.721581267\n",
    "k_trans_PDC_invert = 904.015902\n",
    "\n",
    "invertPars = mu_max_invert, k_trans_Rep, kdeg_Rep, K_Rep, n_Rep, k_trans_PDC_invert\n",
    "\n",
    "# Amp Parameters\n",
    "kdeg_Amp = 2 / np.log(2) * 60\n",
    "K_Amp = 0.4\n",
    "mu_max_amp = 1.\n",
    "n_Amp = 0.8\n",
    "k_trans_Amp = mu_max_amp + kdeg_Amp\n",
    "k_trans_PDC_amp = (mu_max_amp + kdegPPDC) * 5\n",
    "\n",
    "mu_max_amp = 0.793367928\n",
    "k_trans_Amp = 605.394164\n",
    "K_Amp = 0.686349513\n",
    "n_Amp = 0.386036936\n",
    "k_trans_PDC_amp = 6825.44686\n",
    "\n",
    "ampPars = mu_max_amp, k_trans_Amp, kdeg_Amp, K_Amp, n_Amp, k_trans_PDC_amp\n",
    "\n",
    "p = EL222Pars, commonPars, ampPars, invertPars\n",
    "\n",
    "orig_pars =  k_alpha, k_beta, kbasal_scaled, kmax_scaled, n, Kd_scaled, KI_PDC, nI_PDC, mu_max_invert, k_trans_Rep, K_Rep, n_Rep, k_trans_PDC_invert, mu_max_amp, k_trans_Amp, K_Amp, n_Amp, k_trans_PDC_amp\n",
    "\n",
    "p_guess = k_alpha, k_beta, kbasal_scaled, kmax_scaled, n, Kd_scaled, KI_PDC, nI_PDC, mu_max_invert, k_trans_Rep, K_Rep, n_Rep, k_trans_PDC_invert, mu_max_amp, k_trans_Amp, K_Amp, n_Amp, k_trans_PDC_amp\n",
    "bounds = (0, np.inf)\n",
    "\n",
    "\n",
    "\n",
    "steady_state  = makessDoseRespCurve(p_guess, u_arr, TF_fun)"
   ]
  },
  {
   "cell_type": "code",
   "execution_count": 50,
   "metadata": {},
   "outputs": [
    {
     "data": {
      "text/plain": [
       "6825.44686"
      ]
     },
     "execution_count": 50,
     "metadata": {},
     "output_type": "execute_result"
    }
   ],
   "source": [
    "k_trans_PDC_amp"
   ]
  },
  {
   "cell_type": "code",
   "execution_count": 51,
   "metadata": {},
   "outputs": [
    {
     "data": {
      "image/png": "[encoded data removed]",
      "text/plain": [
       "<Figure size 1200x600 with 2 Axes>"
      ]
     },
     "metadata": {},
     "output_type": "display_data"
    }
   ],
   "source": [
    "Rep_ss, Amp_ss, Enz_invert_ss, Enz_amp_ss = steady_state.T\n",
    "mu_amp = mu_max_amp * Enz_amp_ss * 2 / (Ks + 2) * ((KI_PDC ** nI_PDC) / (KI_PDC ** nI_PDC + Enz_amp_ss ** nI_PDC + 1e-10))\n",
    "mu_invert = mu_max_invert * Enz_invert_ss * 2 / (Ks + 2) * ((KI_PDC ** nI_PDC) / (KI_PDC ** nI_PDC + Enz_invert_ss ** nI_PDC + 1e-10))\n",
    "\n",
    "import matplotlib.pyplot as plt\n",
    "\n",
    "fig = plt.figure(figsize=(12,6))\n",
    "ax = fig.add_subplot(121)\n",
    "ax.plot(u_arr, mu_amp, label='Amp', color='blue', linewidth=2)\n",
    "ax.scatter(amp_lights, amp_data, color='blue', marker='o', s=50)\n",
    "ax.set_xscale('symlog', linthresh=0.01)\n",
    "\n",
    "ax = fig.add_subplot(122)\n",
    "ax.plot(u_arr, mu_invert, label='Invert', color='red', linewidth=2)\n",
    "ax.scatter(invert_lights, invert_data, color='red', marker='o', s=50)\n",
    "ax.set_xscale('symlog', linthresh=0.01)"
   ]
  },
  {
   "cell_type": "code",
   "execution_count": 90,
   "metadata": {},
   "outputs": [],
   "source": [
    "from scipy.interpolate import interp1d\n",
    "from scipy.optimize import minimize\n",
    "\n",
    "def fsolve_fun(x_in, u_vals, TF_fun, info): \n",
    "    x = 10 ** np.array(x_in)\n",
    "    Ks = 1\n",
    "    output_states = makessDoseRespCurve(x, u_vals, TF_fun, Ks)\n",
    "    _, _, Enz_invert_ss, Enz_amp_ss = output_states.T\n",
    "    _, _, _, _, _, _, KI_PDC, nI_PDC, mu_max_invert, _, _, _, _, mu_max_amp, _, _, _, _ = x\n",
    "    mu_amp = mu_max_amp * Enz_amp_ss * 2 / (0.1 + 2) * ((KI_PDC ** nI_PDC) / (KI_PDC ** nI_PDC + Enz_amp_ss ** nI_PDC + 1e-10))\n",
    "    mu_invert = mu_max_invert * Enz_invert_ss * 2 / (0.1 + 2) * ((KI_PDC ** nI_PDC) / (KI_PDC ** nI_PDC + Enz_invert_ss ** nI_PDC + 1e-10))\n",
    "\n",
    "    amp_error = 0\n",
    "    inv_error = 0\n",
    "    for i, u in enumerate(u_vals):\n",
    "        if any(amp_lights == u):\n",
    "            amp_error += np.sqrt(np.mean((mu_amp[i] - amp_data[amp_lights == u]) ** 2))\n",
    "        if any(invert_lights == u):\n",
    "            inv_error += np.sqrt(np.mean((mu_invert[i] - invert_data[invert_lights == u]) ** 2))\n",
    "\n",
    "    # error = np.sqrt(amp_error**2 + inv_error ** 2)\n",
    "    error = amp_error + inv_error\n",
    "\n",
    "    if error < info['best_error']:\n",
    "        info['best_error'] = error\n",
    "        info['best_pars'] = x_in\n",
    "        # assert False\n",
    "\n",
    "    if info['Nfeval']%100 == 0:\n",
    "        print('Nfeval: ', info['Nfeval'], 'AmpError', amp_error, 'InvError', inv_error, 'CurrentError', error, 'BestError: ', info['best_error'])\n",
    "    info['Nfeval'] += 1\n",
    "\n",
    "    return error"
   ]
  },
  {
   "cell_type": "code",
   "execution_count": 91,
   "metadata": {},
   "outputs": [
    {
     "name": "stdout",
     "output_type": "stream",
     "text": [
      "[ True  True  True  True  True  True  True  True  True  True  True  True\n",
      "  True  True  True  True  True  True]\n",
      "[ True  True  True  True  True  True  True  True  True  True  True  True\n",
      "  True  True  True  True  True  True]\n",
      "5198.702147200269\n",
      "1039.7404294400537\n",
      "1039.7404294400537\n",
      "10397.404294400538\n"
     ]
    }
   ],
   "source": [
    "# EL222 Parameters\n",
    "TFtot = 2000\n",
    "kon = 0.0016399 \n",
    "koff = 0.34393\n",
    "kdegR = 0.042116\n",
    "kbasal = 0.02612\n",
    "kmax = 13.588\n",
    "Kd = 956.75\n",
    "n = 4.203\n",
    "ktrans = 1.4514\n",
    "kdegP = 0.007\n",
    "\n",
    "Kd_scaled = Kd / TFtot\n",
    "kmax_scaled = kmax * kdegR / (kbasal + kmax)\n",
    "kbasal_scaled = kbasal * kdegR / (kbasal + kmax)\n",
    "\n",
    "k_alpha = kon * 1000 / koff\n",
    "k_beta = koff \n",
    "\n",
    "EL222Pars = k_alpha, k_beta, kbasal_scaled, kmax_scaled, n, Kd_scaled, kdegR\n",
    "\n",
    "# Common Parameters\n",
    "kdegPPDC = 12 / np.log(2) * 60\n",
    "Ks = 1.\n",
    "Y = 0.5\n",
    "nI_PDC = 2\n",
    "KI_PDC = 1\n",
    "commonPars = kdegPPDC, Ks, Y, KI_PDC, nI_PDC\n",
    "\n",
    "# Invert Parameters\n",
    "kdeg_Rep = 12 / np.log(2) * 60\n",
    "K_Rep = 0.01\n",
    "n_Rep = 0.7\n",
    "mu_max_invert = 1\n",
    "k_trans_Rep = (mu_max_invert + kdeg_Rep) * 10 #/ kdeg_Rep\n",
    "k_trans_PDC_invert = (mu_max_invert + kdegPPDC) * 1 #/ kdegPPDC\n",
    "invertPars = mu_max_invert, k_trans_Rep, kdeg_Rep, K_Rep, n_Rep, k_trans_PDC_invert\n",
    "\n",
    "# Amp Parameters\n",
    "kdeg_Amp = 12 / np.log(2) * 60\n",
    "K_Amp = 0.4\n",
    "mu_max_amp = 1.\n",
    "n_Amp = 0.8\n",
    "k_trans_Amp = (mu_max_amp + kdeg_Amp) #/ kdeg_Amp\n",
    "k_trans_PDC_amp = (mu_max_amp + kdegPPDC) * 5 #/ kdegPPDC\n",
    "ampPars = mu_max_amp, k_trans_Amp, kdeg_Amp, K_Amp, n_Amp, k_trans_PDC_amp\n",
    "\n",
    "orig_pars =  k_alpha, k_beta, kbasal_scaled, kmax_scaled, n, Kd_scaled, KI_PDC, nI_PDC, mu_max_invert, k_trans_Rep, K_Rep, n_Rep, k_trans_PDC_invert, mu_max_amp, k_trans_Amp, K_Amp, n_Amp, k_trans_PDC_amp\n",
    "\n",
    "u_vals = np.unique(np.concatenate((amp_lights, invert_lights)))\n",
    "p_guess = np.array([k_alpha, k_beta, kbasal_scaled, kmax_scaled, n, Kd_scaled, KI_PDC, nI_PDC, mu_max_invert, k_trans_Rep, K_Rep, n_Rep, k_trans_PDC_invert, mu_max_amp, k_trans_Amp, K_Amp, n_Amp, k_trans_PDC_amp])\n",
    "p_guess = np.log10(p_guess)\n",
    "# bounds = ((0,10), # KI_PDC\n",
    "#           (0.1,10), # nI_PDC\n",
    "#           (0.1,10), # mu_max_invert\n",
    "#           (0.1,10), # k_trans_Rep\n",
    "#           (0.1,10), # K_Rep\n",
    "#           (0.1,10), # n_Rep\n",
    "#           (0.1,10), # k_trans_PDC_invert\n",
    "#           (0.1,10), # mu_max_amp\n",
    "#           (0.1,10), # k_trans_Amp\n",
    "#           (0.1,10), # K_Amp\n",
    "#           (0.1,10), # n_Amp\n",
    "#           (0.1,10), # k_trans_PDC_amp\n",
    "#         )\n",
    "bounds = ((-1,2), # k_alpha\n",
    "          (-1,2), # k_beta\n",
    "          (-5,0), # kbasal_scaled\n",
    "          (-3,0), # kmax_scaled\n",
    "          (-1,1), # n\n",
    "          (-1,2), # Kd_scaled\n",
    "          (-1,1), # KI_PDC\n",
    "          (0,2),  # nI_PDC\n",
    "          (-1,1), # mu_max_invert\n",
    "          (1,5), # k_trans_Rep ###\n",
    "          (-3,1), # K_Rep   ###\n",
    "          (-2,1), # n_Rep\n",
    "          (2,5), # k_trans_PDC_invert\n",
    "          (-1,1), # mu_max_amp\n",
    "          (1,5), # k_trans_Amp\n",
    "          (-2,1), # K_Amp\n",
    "          (-2,1), # n_Amp\n",
    "          (2,5), # k_trans_PDC_amp\n",
    "        )\n",
    "\n",
    "lower_bounds = [b[0] for b in bounds]\n",
    "upper_bounds = [b[1] for b in bounds]\n",
    "\n",
    "print(p_guess > lower_bounds)\n",
    "print(p_guess < upper_bounds)\n",
    "print(k_trans_PDC_amp)\n",
    "print(k_trans_Amp)\n",
    "print(k_trans_PDC_invert)\n",
    "print(k_trans_Rep)"
   ]
  },
  {
   "cell_type": "code",
   "execution_count": 92,
   "metadata": {},
   "outputs": [
    {
     "name": "stdout",
     "output_type": "stream",
     "text": [
      "18\n",
      "(18,)\n"
     ]
    }
   ],
   "source": [
    "print(len(bounds))\n",
    "print(p_guess.shape)"
   ]
  },
  {
   "cell_type": "code",
   "execution_count": 93,
   "metadata": {},
   "outputs": [],
   "source": [
    "p_guess = np.array([ 1.66207274,  0.14589803, -4.01737962, -1.34688748,  0.25166187,  0.99998917,\n",
    " -0.04838099,  1.00142616,  0.11256127,  4.21336537, -2.194669,   -0.14171475,\n",
    "  2.95617607, -0.10052536,  2.78203823, -0.16345467, -0.41337114,  3.83413109])"
   ]
  },
  {
   "cell_type": "code",
   "execution_count": 94,
   "metadata": {},
   "outputs": [
    {
     "name": "stdout",
     "output_type": "stream",
     "text": [
      "Nfeval:  0 AmpError 0.9495789524962317 InvError 0.410235022029506 CurrentError 1.3598139745257378 BestError:  1.3598139745257378\n",
      "Nfeval:  100 AmpError 1.1029604390074277 InvError 0.13213921879175905 CurrentError 1.2350996577991866 BestError:  1.1957800019452407\n"
     ]
    },
    {
     "name": "stderr",
     "output_type": "stream",
     "text": [
      "/tmp/ipykernel_1885566/88543052.py:10: RuntimeWarning: invalid value encountered in power\n",
      "  mu_amp = mu_max_amp * Enz_amp_ss * 2 / (0.1 + 2) * ((KI_PDC ** nI_PDC) / (KI_PDC ** nI_PDC + Enz_amp_ss ** nI_PDC + 1e-10))\n",
      "/tmp/ipykernel_1885566/88543052.py:11: RuntimeWarning: invalid value encountered in power\n",
      "  mu_invert = mu_max_invert * Enz_invert_ss * 2 / (0.1 + 2) * ((KI_PDC ** nI_PDC) / (KI_PDC ** nI_PDC + Enz_invert_ss ** nI_PDC + 1e-10))\n"
     ]
    },
    {
     "name": "stdout",
     "output_type": "stream",
     "text": [
      "Nfeval:  200 AmpError 0.606007998656833 InvError 0.3529825547720108 CurrentError 0.9589905534288438 BestError:  0.9589905534288438\n",
      "Nfeval:  300 AmpError 0.8949757953707307 InvError 0.3477008450501909 CurrentError 1.2426766404209215 BestError:  0.8405803031655206\n",
      "Nfeval:  400 AmpError 0.5567678573832142 InvError 0.3223919694667504 CurrentError 0.8791598268499646 BestError:  0.8212892530386348\n",
      "Nfeval:  500 AmpError 0.47198675648363186 InvError 0.4235276087547609 CurrentError 0.8955143652383928 BestError:  0.8047885481441139\n"
     ]
    },
    {
     "name": "stderr",
     "output_type": "stream",
     "text": [
      "/tmp/ipykernel_1885566/2602466646.py:137: RuntimeWarning: overflow encountered in double_scalars\n",
      "  mu_x_invert = mu_max_invert * Enz_invert * S / (Ks + S) * ((KI_PDC ** nI_PDC) / (KI_PDC ** nI_PDC + Enz_invert ** nI_PDC + 1e-10))\n",
      "/tmp/ipykernel_1885566/2602466646.py:138: RuntimeWarning: overflow encountered in double_scalars\n",
      "  mu_x_amp = mu_max_amp * Enz_amp * S / (Ks + S) * ((KI_PDC ** nI_PDC) / (KI_PDC ** nI_PDC + Enz_amp ** nI_PDC + 1e-10))\n"
     ]
    },
    {
     "name": "stdout",
     "output_type": "stream",
     "text": [
      "Nfeval:  600 AmpError 2.021735980951233 InvError 0.6406538781723501 CurrentError 2.662389859123583 BestError:  0.8047885481441139\n",
      "Nfeval:  700 AmpError 0.7305106049491648 InvError 0.5787962867290469 CurrentError 1.3093068916782116 BestError:  0.8047885481441139\n",
      "Nfeval:  800 AmpError 2.0162549397043668 InvError 0.7513364579670723 CurrentError 2.7675913976714392 BestError:  0.8047885481441139\n",
      "Nfeval:  900 AmpError 2.021076046997106 InvError 0.7599320493594308 CurrentError 2.781008096356537 BestError:  0.8047885481441139\n"
     ]
    },
    {
     "ename": "KeyboardInterrupt",
     "evalue": "",
     "output_type": "error",
     "traceback": [
      "\u001b[0;31m---------------------------------------------------------------------------\u001b[0m",
      "\u001b[0;31mKeyboardInterrupt\u001b[0m                         Traceback (most recent call last)",
      "\u001b[1;32m/home/smalani/Cybernetic_BioModel/optogenetic_model_fits/dose_response_fits/khammash_optomodel_simple_growth_scaled_mume_amp_invert_toxic_EL222change.ipynb Cell 19\u001b[0m in \u001b[0;36m7\n\u001b[1;32m      <a href='vscode-notebook-cell://ssh-remote%2Bdella-gpu.princeton.edu/home/smalani/Cybernetic_BioModel/optogenetic_model_fits/dose_response_fits/khammash_optomodel_simple_growth_scaled_mume_amp_invert_toxic_EL222change.ipynb#X24sdnNjb2RlLXJlbW90ZQ%3D%3D?line=3'>4</a>\u001b[0m info \u001b[39m=\u001b[39m {\u001b[39m'\u001b[39m\u001b[39mNfeval\u001b[39m\u001b[39m'\u001b[39m:\u001b[39m0\u001b[39m, \u001b[39m'\u001b[39m\u001b[39mbest_error\u001b[39m\u001b[39m'\u001b[39m:np\u001b[39m.\u001b[39minf, \u001b[39m'\u001b[39m\u001b[39mbest_pars\u001b[39m\u001b[39m'\u001b[39m:p_guess}\n\u001b[1;32m      <a href='vscode-notebook-cell://ssh-remote%2Bdella-gpu.princeton.edu/home/smalani/Cybernetic_BioModel/optogenetic_model_fits/dose_response_fits/khammash_optomodel_simple_growth_scaled_mume_amp_invert_toxic_EL222change.ipynb#X24sdnNjb2RlLXJlbW90ZQ%3D%3D?line=5'>6</a>\u001b[0m \u001b[39m# sol = minimize(fsolve_fun, p_guess, args=(u_vals,TF_fun,info,), method='Powell', options={'maxiter': 1000, 'maxfev': 1000}, bounds=bounds)\u001b[39;00m\n\u001b[0;32m----> <a href='vscode-notebook-cell://ssh-remote%2Bdella-gpu.princeton.edu/home/smalani/Cybernetic_BioModel/optogenetic_model_fits/dose_response_fits/khammash_optomodel_simple_growth_scaled_mume_amp_invert_toxic_EL222change.ipynb#X24sdnNjb2RlLXJlbW90ZQ%3D%3D?line=6'>7</a>\u001b[0m sol \u001b[39m=\u001b[39m scipy\u001b[39m.\u001b[39;49moptimize\u001b[39m.\u001b[39;49mdual_annealing(fsolve_fun, bounds, args\u001b[39m=\u001b[39;49m(u_vals,TF_fun,info,), maxiter\u001b[39m=\u001b[39;49m\u001b[39m10000\u001b[39;49m, seed\u001b[39m=\u001b[39;49m\u001b[39m0\u001b[39;49m, x0\u001b[39m=\u001b[39;49mp_guess, no_local_search\u001b[39m=\u001b[39;49m\u001b[39mFalse\u001b[39;49;00m, minimizer_kwargs\u001b[39m=\u001b[39;49m{\u001b[39m'\u001b[39;49m\u001b[39mmethod\u001b[39;49m\u001b[39m'\u001b[39;49m:\u001b[39m'\u001b[39;49m\u001b[39mPowell\u001b[39;49m\u001b[39m'\u001b[39;49m, \u001b[39m'\u001b[39;49m\u001b[39mbounds\u001b[39;49m\u001b[39m'\u001b[39;49m:bounds})\n\u001b[1;32m      <a href='vscode-notebook-cell://ssh-remote%2Bdella-gpu.princeton.edu/home/smalani/Cybernetic_BioModel/optogenetic_model_fits/dose_response_fits/khammash_optomodel_simple_growth_scaled_mume_amp_invert_toxic_EL222change.ipynb#X24sdnNjb2RlLXJlbW90ZQ%3D%3D?line=7'>8</a>\u001b[0m \u001b[39m# sol = scipy.optimize.differential_evolution(fsolve_fun, bounds, args=(u_vals,TF_fun,info,), maxiter=10000, seed=0, popsize=10, tol=0.01, mutation=(0.5, 1), recombination=0.7, updating='deferred', workers=-1, polish=True, init='latinhypercube', atol=0)\u001b[39;00m\n\u001b[1;32m      <a href='vscode-notebook-cell://ssh-remote%2Bdella-gpu.princeton.edu/home/smalani/Cybernetic_BioModel/optogenetic_model_fits/dose_response_fits/khammash_optomodel_simple_growth_scaled_mume_amp_invert_toxic_EL222change.ipynb#X24sdnNjb2RlLXJlbW90ZQ%3D%3D?line=8'>9</a>\u001b[0m \u001b[39m# sol = scipy.optimize.basinhopping(fsolve_fun, p_guess, minimizer_kwargs={'args':(u_vals,TF_fun,info,), 'method':'Powell', 'bounds':bounds}, niter=10000, T=0.5, stepsize=0.5, interval=50)\u001b[39;00m\n\u001b[1;32m     <a href='vscode-notebook-cell://ssh-remote%2Bdella-gpu.princeton.edu/home/smalani/Cybernetic_BioModel/optogenetic_model_fits/dose_response_fits/khammash_optomodel_simple_growth_scaled_mume_amp_invert_toxic_EL222change.ipynb#X24sdnNjb2RlLXJlbW90ZQ%3D%3D?line=9'>10</a>\u001b[0m \u001b[39mprint\u001b[39m(sol\u001b[39m.\u001b[39mx)\n",
      "File \u001b[0;32m~/.conda/envs/torch-env/lib/python3.10/site-packages/scipy/optimize/_dual_annealing.py:706\u001b[0m, in \u001b[0;36mdual_annealing\u001b[0;34m(func, bounds, args, maxiter, minimizer_kwargs, initial_temp, restart_temp_ratio, visit, accept, maxfun, seed, no_local_search, callback, x0, local_search_options)\u001b[0m\n\u001b[1;32m    704\u001b[0m     \u001b[39mbreak\u001b[39;00m\n\u001b[1;32m    705\u001b[0m \u001b[39m# starting strategy chain\u001b[39;00m\n\u001b[0;32m--> 706\u001b[0m val \u001b[39m=\u001b[39m strategy_chain\u001b[39m.\u001b[39;49mrun(i, temperature)\n\u001b[1;32m    707\u001b[0m \u001b[39mif\u001b[39;00m val \u001b[39mis\u001b[39;00m \u001b[39mnot\u001b[39;00m \u001b[39mNone\u001b[39;00m:\n\u001b[1;32m    708\u001b[0m     message\u001b[39m.\u001b[39mappend(val)\n",
      "File \u001b[0;32m~/.conda/envs/torch-env/lib/python3.10/site-packages/scipy/optimize/_dual_annealing.py:299\u001b[0m, in \u001b[0;36mStrategyChain.run\u001b[0;34m(self, step, temperature)\u001b[0m\n\u001b[1;32m    296\u001b[0m x_visit \u001b[39m=\u001b[39m \u001b[39mself\u001b[39m\u001b[39m.\u001b[39mvisit_dist\u001b[39m.\u001b[39mvisiting(\n\u001b[1;32m    297\u001b[0m     \u001b[39mself\u001b[39m\u001b[39m.\u001b[39menergy_state\u001b[39m.\u001b[39mcurrent_location, j, temperature)\n\u001b[1;32m    298\u001b[0m \u001b[39m# Calling the objective function\u001b[39;00m\n\u001b[0;32m--> 299\u001b[0m e \u001b[39m=\u001b[39m \u001b[39mself\u001b[39;49m\u001b[39m.\u001b[39;49mfunc_wrapper\u001b[39m.\u001b[39;49mfun(x_visit)\n\u001b[1;32m    300\u001b[0m \u001b[39mif\u001b[39;00m e \u001b[39m<\u001b[39m \u001b[39mself\u001b[39m\u001b[39m.\u001b[39menergy_state\u001b[39m.\u001b[39mcurrent_energy:\n\u001b[1;32m    301\u001b[0m     \u001b[39m# We have got a better energy value\u001b[39;00m\n\u001b[1;32m    302\u001b[0m     \u001b[39mself\u001b[39m\u001b[39m.\u001b[39menergy_state\u001b[39m.\u001b[39mupdate_current(e, x_visit)\n",
      "File \u001b[0;32m~/.conda/envs/torch-env/lib/python3.10/site-packages/scipy/optimize/_dual_annealing.py:382\u001b[0m, in \u001b[0;36mObjectiveFunWrapper.fun\u001b[0;34m(self, x)\u001b[0m\n\u001b[1;32m    380\u001b[0m \u001b[39mdef\u001b[39;00m \u001b[39mfun\u001b[39m(\u001b[39mself\u001b[39m, x):\n\u001b[1;32m    381\u001b[0m     \u001b[39mself\u001b[39m\u001b[39m.\u001b[39mnfev \u001b[39m+\u001b[39m\u001b[39m=\u001b[39m \u001b[39m1\u001b[39m\n\u001b[0;32m--> 382\u001b[0m     \u001b[39mreturn\u001b[39;00m \u001b[39mself\u001b[39;49m\u001b[39m.\u001b[39;49mfunc(x, \u001b[39m*\u001b[39;49m\u001b[39mself\u001b[39;49m\u001b[39m.\u001b[39;49margs)\n",
      "\u001b[1;32m/home/smalani/Cybernetic_BioModel/optogenetic_model_fits/dose_response_fits/khammash_optomodel_simple_growth_scaled_mume_amp_invert_toxic_EL222change.ipynb Cell 19\u001b[0m in \u001b[0;36m7\n\u001b[1;32m      <a href='vscode-notebook-cell://ssh-remote%2Bdella-gpu.princeton.edu/home/smalani/Cybernetic_BioModel/optogenetic_model_fits/dose_response_fits/khammash_optomodel_simple_growth_scaled_mume_amp_invert_toxic_EL222change.ipynb#X24sdnNjb2RlLXJlbW90ZQ%3D%3D?line=3'>4</a>\u001b[0m \u001b[39mdef\u001b[39;00m \u001b[39mfsolve_fun\u001b[39m(x_in, u_vals, TF_fun, info): \n\u001b[1;32m      <a href='vscode-notebook-cell://ssh-remote%2Bdella-gpu.princeton.edu/home/smalani/Cybernetic_BioModel/optogenetic_model_fits/dose_response_fits/khammash_optomodel_simple_growth_scaled_mume_amp_invert_toxic_EL222change.ipynb#X24sdnNjb2RlLXJlbW90ZQ%3D%3D?line=4'>5</a>\u001b[0m     x \u001b[39m=\u001b[39m \u001b[39m10\u001b[39m \u001b[39m*\u001b[39m\u001b[39m*\u001b[39m np\u001b[39m.\u001b[39marray(x_in)\n\u001b[0;32m----> <a href='vscode-notebook-cell://ssh-remote%2Bdella-gpu.princeton.edu/home/smalani/Cybernetic_BioModel/optogenetic_model_fits/dose_response_fits/khammash_optomodel_simple_growth_scaled_mume_amp_invert_toxic_EL222change.ipynb#X24sdnNjb2RlLXJlbW90ZQ%3D%3D?line=6'>7</a>\u001b[0m     output_states \u001b[39m=\u001b[39m makessDoseRespCurve(x, u_vals, TF_fun)\n\u001b[1;32m      <a href='vscode-notebook-cell://ssh-remote%2Bdella-gpu.princeton.edu/home/smalani/Cybernetic_BioModel/optogenetic_model_fits/dose_response_fits/khammash_optomodel_simple_growth_scaled_mume_amp_invert_toxic_EL222change.ipynb#X24sdnNjb2RlLXJlbW90ZQ%3D%3D?line=7'>8</a>\u001b[0m     _, _, Enz_invert_ss, Enz_amp_ss \u001b[39m=\u001b[39m output_states\u001b[39m.\u001b[39mT\n\u001b[1;32m      <a href='vscode-notebook-cell://ssh-remote%2Bdella-gpu.princeton.edu/home/smalani/Cybernetic_BioModel/optogenetic_model_fits/dose_response_fits/khammash_optomodel_simple_growth_scaled_mume_amp_invert_toxic_EL222change.ipynb#X24sdnNjb2RlLXJlbW90ZQ%3D%3D?line=8'>9</a>\u001b[0m     _, _, _, _, _, _, KI_PDC, nI_PDC, mu_max_invert, _, _, _, _, mu_max_amp, _, _, _, _ \u001b[39m=\u001b[39m x\n",
      "\u001b[1;32m/home/smalani/Cybernetic_BioModel/optogenetic_model_fits/dose_response_fits/khammash_optomodel_simple_growth_scaled_mume_amp_invert_toxic_EL222change.ipynb Cell 19\u001b[0m in \u001b[0;36m3\n\u001b[1;32m     <a href='vscode-notebook-cell://ssh-remote%2Bdella-gpu.princeton.edu/home/smalani/Cybernetic_BioModel/optogenetic_model_fits/dose_response_fits/khammash_optomodel_simple_growth_scaled_mume_amp_invert_toxic_EL222change.ipynb#X24sdnNjb2RlLXJlbW90ZQ%3D%3D?line=35'>36</a>\u001b[0m     x_in \u001b[39m=\u001b[39m mRNA_invert, mRNA_amp, Rep, Amp, Enz_invert, Enz_amp, S, X_invert, X_amp\n\u001b[1;32m     <a href='vscode-notebook-cell://ssh-remote%2Bdella-gpu.princeton.edu/home/smalani/Cybernetic_BioModel/optogenetic_model_fits/dose_response_fits/khammash_optomodel_simple_growth_scaled_mume_amp_invert_toxic_EL222change.ipynb#X24sdnNjb2RlLXJlbW90ZQ%3D%3D?line=36'>37</a>\u001b[0m     \u001b[39mreturn\u001b[39;00m opto_growth(\u001b[39m0\u001b[39m,x_in,p_in, u, TF_fun)[\u001b[39m2\u001b[39m:\u001b[39m-\u001b[39m\u001b[39m3\u001b[39m]\n\u001b[0;32m---> <a href='vscode-notebook-cell://ssh-remote%2Bdella-gpu.princeton.edu/home/smalani/Cybernetic_BioModel/optogenetic_model_fits/dose_response_fits/khammash_optomodel_simple_growth_scaled_mume_amp_invert_toxic_EL222change.ipynb#X24sdnNjb2RlLXJlbW90ZQ%3D%3D?line=37'>38</a>\u001b[0m output \u001b[39m=\u001b[39m root(rootfunc, lastsol, tol\u001b[39m=\u001b[39;49m\u001b[39m1e-10\u001b[39;49m, method\u001b[39m=\u001b[39;49m\u001b[39m'\u001b[39;49m\u001b[39mhybr\u001b[39;49m\u001b[39m'\u001b[39;49m)\n\u001b[1;32m     <a href='vscode-notebook-cell://ssh-remote%2Bdella-gpu.princeton.edu/home/smalani/Cybernetic_BioModel/optogenetic_model_fits/dose_response_fits/khammash_optomodel_simple_growth_scaled_mume_amp_invert_toxic_EL222change.ipynb#X24sdnNjb2RlLXJlbW90ZQ%3D%3D?line=38'>39</a>\u001b[0m \u001b[39mif\u001b[39;00m output\u001b[39m.\u001b[39msuccess \u001b[39mis\u001b[39;00m \u001b[39mFalse\u001b[39;00m:\n\u001b[1;32m     <a href='vscode-notebook-cell://ssh-remote%2Bdella-gpu.princeton.edu/home/smalani/Cybernetic_BioModel/optogenetic_model_fits/dose_response_fits/khammash_optomodel_simple_growth_scaled_mume_amp_invert_toxic_EL222change.ipynb#X24sdnNjb2RlLXJlbW90ZQ%3D%3D?line=39'>40</a>\u001b[0m     \u001b[39mfor\u001b[39;00m i \u001b[39min\u001b[39;00m \u001b[39mrange\u001b[39m(\u001b[39m4\u001b[39m):\n",
      "File \u001b[0;32m~/.conda/envs/torch-env/lib/python3.10/site-packages/scipy/optimize/_root.py:234\u001b[0m, in \u001b[0;36mroot\u001b[0;34m(fun, x0, args, method, jac, tol, callback, options)\u001b[0m\n\u001b[1;32m    231\u001b[0m         options\u001b[39m.\u001b[39msetdefault(\u001b[39m'\u001b[39m\u001b[39mfatol\u001b[39m\u001b[39m'\u001b[39m, np\u001b[39m.\u001b[39minf)\n\u001b[1;32m    233\u001b[0m \u001b[39mif\u001b[39;00m meth \u001b[39m==\u001b[39m \u001b[39m'\u001b[39m\u001b[39mhybr\u001b[39m\u001b[39m'\u001b[39m:\n\u001b[0;32m--> 234\u001b[0m     sol \u001b[39m=\u001b[39m _root_hybr(fun, x0, args\u001b[39m=\u001b[39;49margs, jac\u001b[39m=\u001b[39;49mjac, \u001b[39m*\u001b[39;49m\u001b[39m*\u001b[39;49moptions)\n\u001b[1;32m    235\u001b[0m \u001b[39melif\u001b[39;00m meth \u001b[39m==\u001b[39m \u001b[39m'\u001b[39m\u001b[39mlm\u001b[39m\u001b[39m'\u001b[39m:\n\u001b[1;32m    236\u001b[0m     sol \u001b[39m=\u001b[39m _root_leastsq(fun, x0, args\u001b[39m=\u001b[39margs, jac\u001b[39m=\u001b[39mjac, \u001b[39m*\u001b[39m\u001b[39m*\u001b[39moptions)\n",
      "File \u001b[0;32m~/.conda/envs/torch-env/lib/python3.10/site-packages/scipy/optimize/_minpack_py.py:237\u001b[0m, in \u001b[0;36m_root_hybr\u001b[0;34m(func, x0, args, jac, col_deriv, xtol, maxfev, band, eps, factor, diag, **unknown_options)\u001b[0m\n\u001b[1;32m    235\u001b[0m     \u001b[39mif\u001b[39;00m maxfev \u001b[39m==\u001b[39m \u001b[39m0\u001b[39m:\n\u001b[1;32m    236\u001b[0m         maxfev \u001b[39m=\u001b[39m \u001b[39m200\u001b[39m \u001b[39m*\u001b[39m (n \u001b[39m+\u001b[39m \u001b[39m1\u001b[39m)\n\u001b[0;32m--> 237\u001b[0m     retval \u001b[39m=\u001b[39m _minpack\u001b[39m.\u001b[39;49m_hybrd(func, x0, args, \u001b[39m1\u001b[39;49m, xtol, maxfev,\n\u001b[1;32m    238\u001b[0m                              ml, mu, epsfcn, factor, diag)\n\u001b[1;32m    239\u001b[0m \u001b[39melse\u001b[39;00m:\n\u001b[1;32m    240\u001b[0m     _check_func(\u001b[39m'\u001b[39m\u001b[39mfsolve\u001b[39m\u001b[39m'\u001b[39m, \u001b[39m'\u001b[39m\u001b[39mfprime\u001b[39m\u001b[39m'\u001b[39m, Dfun, x0, args, n, (n, n))\n",
      "\u001b[1;32m/home/smalani/Cybernetic_BioModel/optogenetic_model_fits/dose_response_fits/khammash_optomodel_simple_growth_scaled_mume_amp_invert_toxic_EL222change.ipynb Cell 19\u001b[0m in \u001b[0;36m3\n\u001b[1;32m     <a href='vscode-notebook-cell://ssh-remote%2Bdella-gpu.princeton.edu/home/smalani/Cybernetic_BioModel/optogenetic_model_fits/dose_response_fits/khammash_optomodel_simple_growth_scaled_mume_amp_invert_toxic_EL222change.ipynb#X24sdnNjb2RlLXJlbW90ZQ%3D%3D?line=34'>35</a>\u001b[0m Rep, Amp, Enz_invert, Enz_amp \u001b[39m=\u001b[39m x\n\u001b[1;32m     <a href='vscode-notebook-cell://ssh-remote%2Bdella-gpu.princeton.edu/home/smalani/Cybernetic_BioModel/optogenetic_model_fits/dose_response_fits/khammash_optomodel_simple_growth_scaled_mume_amp_invert_toxic_EL222change.ipynb#X24sdnNjb2RlLXJlbW90ZQ%3D%3D?line=35'>36</a>\u001b[0m x_in \u001b[39m=\u001b[39m mRNA_invert, mRNA_amp, Rep, Amp, Enz_invert, Enz_amp, S, X_invert, X_amp\n\u001b[0;32m---> <a href='vscode-notebook-cell://ssh-remote%2Bdella-gpu.princeton.edu/home/smalani/Cybernetic_BioModel/optogenetic_model_fits/dose_response_fits/khammash_optomodel_simple_growth_scaled_mume_amp_invert_toxic_EL222change.ipynb#X24sdnNjb2RlLXJlbW90ZQ%3D%3D?line=36'>37</a>\u001b[0m \u001b[39mreturn\u001b[39;00m opto_growth(\u001b[39m0\u001b[39;49m,x_in,p_in, u, TF_fun)[\u001b[39m2\u001b[39m:\u001b[39m-\u001b[39m\u001b[39m3\u001b[39m]\n",
      "\u001b[1;32m/home/smalani/Cybernetic_BioModel/optogenetic_model_fits/dose_response_fits/khammash_optomodel_simple_growth_scaled_mume_amp_invert_toxic_EL222change.ipynb Cell 19\u001b[0m in \u001b[0;36m1\n\u001b[1;32m    <a href='vscode-notebook-cell://ssh-remote%2Bdella-gpu.princeton.edu/home/smalani/Cybernetic_BioModel/optogenetic_model_fits/dose_response_fits/khammash_optomodel_simple_growth_scaled_mume_amp_invert_toxic_EL222change.ipynb#X24sdnNjb2RlLXJlbW90ZQ%3D%3D?line=136'>137</a>\u001b[0m mu_x_invert \u001b[39m=\u001b[39m mu_max_invert \u001b[39m*\u001b[39m Enz_invert \u001b[39m*\u001b[39m S \u001b[39m/\u001b[39m (Ks \u001b[39m+\u001b[39m S) \u001b[39m*\u001b[39m ((KI_PDC \u001b[39m*\u001b[39m\u001b[39m*\u001b[39m nI_PDC) \u001b[39m/\u001b[39m (KI_PDC \u001b[39m*\u001b[39m\u001b[39m*\u001b[39m nI_PDC \u001b[39m+\u001b[39m Enz_invert \u001b[39m*\u001b[39m\u001b[39m*\u001b[39m nI_PDC \u001b[39m+\u001b[39m \u001b[39m1e-10\u001b[39m))\n\u001b[1;32m    <a href='vscode-notebook-cell://ssh-remote%2Bdella-gpu.princeton.edu/home/smalani/Cybernetic_BioModel/optogenetic_model_fits/dose_response_fits/khammash_optomodel_simple_growth_scaled_mume_amp_invert_toxic_EL222change.ipynb#X24sdnNjb2RlLXJlbW90ZQ%3D%3D?line=137'>138</a>\u001b[0m mu_x_amp \u001b[39m=\u001b[39m mu_max_amp \u001b[39m*\u001b[39m Enz_amp \u001b[39m*\u001b[39m S \u001b[39m/\u001b[39m (Ks \u001b[39m+\u001b[39m S) \u001b[39m*\u001b[39m ((KI_PDC \u001b[39m*\u001b[39m\u001b[39m*\u001b[39m nI_PDC) \u001b[39m/\u001b[39m (KI_PDC \u001b[39m*\u001b[39m\u001b[39m*\u001b[39m nI_PDC \u001b[39m+\u001b[39m Enz_amp \u001b[39m*\u001b[39m\u001b[39m*\u001b[39m nI_PDC \u001b[39m+\u001b[39m \u001b[39m1e-10\u001b[39m))\n\u001b[0;32m--> <a href='vscode-notebook-cell://ssh-remote%2Bdella-gpu.princeton.edu/home/smalani/Cybernetic_BioModel/optogenetic_model_fits/dose_response_fits/khammash_optomodel_simple_growth_scaled_mume_amp_invert_toxic_EL222change.ipynb#X24sdnNjb2RlLXJlbW90ZQ%3D%3D?line=139'>140</a>\u001b[0m TF \u001b[39m=\u001b[39m TF_fun(u)\n\u001b[1;32m    <a href='vscode-notebook-cell://ssh-remote%2Bdella-gpu.princeton.edu/home/smalani/Cybernetic_BioModel/optogenetic_model_fits/dose_response_fits/khammash_optomodel_simple_growth_scaled_mume_amp_invert_toxic_EL222change.ipynb#X24sdnNjb2RlLXJlbW90ZQ%3D%3D?line=140'>141</a>\u001b[0m mRNAsetpoint \u001b[39m=\u001b[39m kbasal_scaled \u001b[39m+\u001b[39m kmax_scaled \u001b[39m*\u001b[39m (TF \u001b[39m*\u001b[39m\u001b[39m*\u001b[39m n) \u001b[39m/\u001b[39m ((Kd_scaled \u001b[39m*\u001b[39m\u001b[39m*\u001b[39m n) \u001b[39m+\u001b[39m (TF \u001b[39m*\u001b[39m\u001b[39m*\u001b[39m n)) \u001b[39m/\u001b[39m kdegR\n\u001b[1;32m    <a href='vscode-notebook-cell://ssh-remote%2Bdella-gpu.princeton.edu/home/smalani/Cybernetic_BioModel/optogenetic_model_fits/dose_response_fits/khammash_optomodel_simple_growth_scaled_mume_amp_invert_toxic_EL222change.ipynb#X24sdnNjb2RlLXJlbW90ZQ%3D%3D?line=142'>143</a>\u001b[0m dmRNA_invert_dt \u001b[39m=\u001b[39m (mRNAsetpoint \u001b[39m-\u001b[39m mRNA_invert) \u001b[39m/\u001b[39m tau_mRNA\n",
      "File \u001b[0;32m~/.conda/envs/torch-env/lib/python3.10/site-packages/scipy/interpolate/_polyint.py:77\u001b[0m, in \u001b[0;36m_Interpolator1D.__call__\u001b[0;34m(self, x)\u001b[0m\n\u001b[1;32m     56\u001b[0m \u001b[39mdef\u001b[39;00m \u001b[39m__call__\u001b[39m(\u001b[39mself\u001b[39m, x):\n\u001b[1;32m     57\u001b[0m     \u001b[39m\"\"\"\u001b[39;00m\n\u001b[1;32m     58\u001b[0m \u001b[39m    Evaluate the interpolant\u001b[39;00m\n\u001b[1;32m     59\u001b[0m \n\u001b[0;32m   (...)\u001b[0m\n\u001b[1;32m     75\u001b[0m \n\u001b[1;32m     76\u001b[0m \u001b[39m    \"\"\"\u001b[39;00m\n\u001b[0;32m---> 77\u001b[0m     x, x_shape \u001b[39m=\u001b[39m \u001b[39mself\u001b[39;49m\u001b[39m.\u001b[39;49m_prepare_x(x)\n\u001b[1;32m     78\u001b[0m     y \u001b[39m=\u001b[39m \u001b[39mself\u001b[39m\u001b[39m.\u001b[39m_evaluate(x)\n\u001b[1;32m     79\u001b[0m     \u001b[39mreturn\u001b[39;00m \u001b[39mself\u001b[39m\u001b[39m.\u001b[39m_finish_y(y, x_shape)\n",
      "File \u001b[0;32m~/.conda/envs/torch-env/lib/python3.10/site-packages/scipy/interpolate/_polyint.py:89\u001b[0m, in \u001b[0;36m_Interpolator1D._prepare_x\u001b[0;34m(self, x)\u001b[0m\n\u001b[1;32m     87\u001b[0m \u001b[39mdef\u001b[39;00m \u001b[39m_prepare_x\u001b[39m(\u001b[39mself\u001b[39m, x):\n\u001b[1;32m     88\u001b[0m     \u001b[39m\"\"\"Reshape input x array to 1-D\"\"\"\u001b[39;00m\n\u001b[0;32m---> 89\u001b[0m     x \u001b[39m=\u001b[39m _asarray_validated(x, check_finite\u001b[39m=\u001b[39;49m\u001b[39mFalse\u001b[39;49;00m, as_inexact\u001b[39m=\u001b[39;49m\u001b[39mTrue\u001b[39;49;00m)\n\u001b[1;32m     90\u001b[0m     x_shape \u001b[39m=\u001b[39m x\u001b[39m.\u001b[39mshape\n\u001b[1;32m     91\u001b[0m     \u001b[39mreturn\u001b[39;00m x\u001b[39m.\u001b[39mravel(), x_shape\n",
      "File \u001b[0;32m~/.conda/envs/torch-env/lib/python3.10/site-packages/scipy/_lib/_util.py:241\u001b[0m, in \u001b[0;36m_asarray_validated\u001b[0;34m(a, check_finite, sparse_ok, objects_ok, mask_ok, as_inexact)\u001b[0m\n\u001b[1;32m    235\u001b[0m         \u001b[39mreturn\u001b[39;00m seed\n\u001b[1;32m    237\u001b[0m     \u001b[39mraise\u001b[39;00m \u001b[39mValueError\u001b[39;00m(\u001b[39m'\u001b[39m\u001b[39m%r\u001b[39;00m\u001b[39m cannot be used to seed a numpy.random.RandomState\u001b[39m\u001b[39m'\u001b[39m\n\u001b[1;32m    238\u001b[0m                      \u001b[39m'\u001b[39m\u001b[39m instance\u001b[39m\u001b[39m'\u001b[39m \u001b[39m%\u001b[39m seed)\n\u001b[0;32m--> 241\u001b[0m \u001b[39mdef\u001b[39;00m \u001b[39m_asarray_validated\u001b[39m(a, check_finite\u001b[39m=\u001b[39m\u001b[39mTrue\u001b[39;00m,\n\u001b[1;32m    242\u001b[0m                        sparse_ok\u001b[39m=\u001b[39m\u001b[39mFalse\u001b[39;00m, objects_ok\u001b[39m=\u001b[39m\u001b[39mFalse\u001b[39;00m, mask_ok\u001b[39m=\u001b[39m\u001b[39mFalse\u001b[39;00m,\n\u001b[1;32m    243\u001b[0m                        as_inexact\u001b[39m=\u001b[39m\u001b[39mFalse\u001b[39;00m):\n\u001b[1;32m    244\u001b[0m     \u001b[39m\"\"\"\u001b[39;00m\n\u001b[1;32m    245\u001b[0m \u001b[39m    Helper function for SciPy argument validation.\u001b[39;00m\n\u001b[1;32m    246\u001b[0m \n\u001b[0;32m   (...)\u001b[0m\n\u001b[1;32m    274\u001b[0m \n\u001b[1;32m    275\u001b[0m \u001b[39m    \"\"\"\u001b[39;00m\n\u001b[1;32m    276\u001b[0m     \u001b[39mif\u001b[39;00m \u001b[39mnot\u001b[39;00m sparse_ok:\n",
      "\u001b[0;31mKeyboardInterrupt\u001b[0m: "
     ]
    }
   ],
   "source": [
    "import scipy.optimize\n",
    "\n",
    "# p_guess = info['best_pars'] \n",
    "info = {'Nfeval':0, 'best_error':np.inf, 'best_pars':p_guess}\n",
    "\n",
    "# sol = minimize(fsolve_fun, p_guess, args=(u_vals,TF_fun,info,), method='Powell', options={'maxiter': 1000, 'maxfev': 1000}, bounds=bounds)\n",
    "sol = scipy.optimize.dual_annealing(fsolve_fun, bounds, args=(u_vals,TF_fun,info,), maxiter=10000, seed=0, x0=p_guess, no_local_search=False, minimizer_kwargs={'method':'Powell', 'bounds':bounds})\n",
    "# sol = scipy.optimize.differential_evolution(fsolve_fun, bounds, args=(u_vals,TF_fun,info,), maxiter=10000, seed=0, popsize=10, tol=0.01, mutation=(0.5, 1), recombination=0.7, updating='deferred', workers=-1, polish=True, init='latinhypercube', atol=0)\n",
    "# sol = scipy.optimize.basinhopping(fsolve_fun, p_guess, minimizer_kwargs={'args':(u_vals,TF_fun,info,), 'method':'Powell', 'bounds':bounds}, niter=10000, T=0.5, stepsize=0.5, interval=50)\n",
    "print(sol.x)\n",
    "print(sol.success)\n",
    "print(sol.message)"
   ]
  },
  {
   "cell_type": "code",
   "execution_count": null,
   "metadata": {},
   "outputs": [
    {
     "name": "stdout",
     "output_type": "stream",
     "text": [
      "{'Nfeval': 3296, 'best_error': 0.2976010263395108, 'best_pars': array([ 1.99808507,  1.99928015, -4.70403039, -2.02145841,  0.24940268,\n",
      "        1.00970832, -0.05090171,  0.97277723, -0.21002087,  4.45014782,\n",
      "       -2.20458915, -0.01435324,  3.09376181, -0.08697834,  2.79903705,\n",
      "       -0.15769042, -0.41878567,  3.83585522])}\n"
     ]
    }
   ],
   "source": [
    "print(info)\n",
    "# print(sol.x)"
   ]
  },
  {
   "cell_type": "code",
   "execution_count": null,
   "metadata": {},
   "outputs": [
    {
     "name": "stdout",
     "output_type": "stream",
     "text": [
      "Nfeval:  0 AmpError 0.680426017882785 InvError 0.21272773376611082 CurrentError 0.8931537516488959 BestError:  0\n",
      "0.8931537516488959 (4.768121420056406, 0.34393, 8.080360096723108e-05, 0.04203519639903277, 4.203, 0.478375, 1, 2, 1, 10397.404294400538, 0.01, 0.7, 1039.7404294400537, 1.0, 1039.7404294400537, 0.4, 0.8, 5198.702147200269)\n",
      "======================================\n",
      "Nfeval:  0 AmpError 0.18424731527256483 InvError 0.11335371106694594 CurrentError 0.2976010263395108 BestError:  0\n",
      "0.2976010263395108 [ 1.99808507  1.99928015 -4.70403039 -2.02145841  0.24940268  1.00970832\n",
      " -0.05090171  0.97277723 -0.21002087  4.45014782 -2.20458915 -0.01435324\n",
      "  3.09376181 -0.08697834  2.79903705 -0.15769042 -0.41878567  3.83585522]\n"
     ]
    }
   ],
   "source": [
    "print(fsolve_fun(np.log10(orig_pars), u_vals, TF_fun, {'Nfeval':0, 'best_error':0, 'best_pars':p_guess}), orig_pars)\n",
    "# print(fsolve_fun(sol.x, u_vals, mRNA_fun, {'Nfeval':0, 'best_error':np.inf, 'best_pars':p_guess}), sol.x)\n",
    "print('======================================')\n",
    "print(fsolve_fun(info['best_pars'], u_vals, TF_fun, {'Nfeval':0, 'best_error':0, 'best_pars':p_guess}), info['best_pars'])"
   ]
  },
  {
   "cell_type": "code",
   "execution_count": 95,
   "metadata": {},
   "outputs": [
    {
     "data": {
      "image/png": "[encoded data removed]",
      "text/plain": [
       "<Figure size 1200x600 with 2 Axes>"
      ]
     },
     "metadata": {},
     "output_type": "display_data"
    },
    {
     "data": {
      "image/png": "[encoded data removed]",
      "text/plain": [
       "<Figure size 600x600 with 1 Axes>"
      ]
     },
     "metadata": {},
     "output_type": "display_data"
    }
   ],
   "source": [
    "parstouse = 10 ** info['best_pars']\n",
    "utouse = u_arr\n",
    "\n",
    "output_states = makessDoseRespCurve(parstouse, utouse, TF_fun)\n",
    "_, _, Enz_invert_ss, Enz_amp_ss = output_states.T\n",
    "_, _, _, _, _, _, KI_PDC, nI_PDC, mu_max_invert, _, _, _, _, mu_max_amp, _, _, _, _ = parstouse\n",
    "mu_amp = mu_max_amp * Enz_amp_ss * 2 / (1 + 2) * ((KI_PDC ** nI_PDC) / (KI_PDC ** nI_PDC + Enz_amp_ss ** nI_PDC + 1e-10))\n",
    "mu_invert = mu_max_invert * Enz_invert_ss * 2 / (1 + 2) * ((KI_PDC ** nI_PDC) / (KI_PDC ** nI_PDC + Enz_invert_ss ** nI_PDC + 1e-10))\n",
    "\n",
    "import matplotlib.pyplot as plt\n",
    "\n",
    "fig = plt.figure(figsize=(12,6))\n",
    "ax = fig.add_subplot(121)\n",
    "ax.plot(utouse, mu_amp, label='Amp', color='blue', linewidth=2)\n",
    "ax.scatter(amp_lights, amp_data, color='blue', marker='o', s=50)\n",
    "ax.set_xscale('symlog', linthresh=0.01)\n",
    "\n",
    "ax = fig.add_subplot(122)\n",
    "ax.plot(utouse, mu_invert, label='Invert', color='red', linewidth=2)\n",
    "ax.scatter(invert_lights, invert_data, color='red', marker='o', s=50)\n",
    "ax.set_xscale('symlog', linthresh=0.01)\n",
    "\n",
    "fig = plt.figure(figsize=(6,6))\n",
    "ax = fig.add_subplot(111)\n",
    "ax.plot(utouse, mu_invert, label='Invert', color='red', linewidth=2)\n",
    "ax.plot(utouse, mu_amp, label='Amp', color='blue', linewidth=2)\n",
    "ax.set_xscale('symlog', linthresh=0.01)\n"
   ]
  },
  {
   "cell_type": "code",
   "execution_count": null,
   "metadata": {},
   "outputs": [
    {
     "data": {
      "text/plain": [
       "array([9.95600408e+01, 9.98343850e+01, 1.97683129e-05, 9.51790984e-03,\n",
       "       1.77583530e+00, 1.02260595e+01, 8.89402396e-01, 9.39241408e+00,\n",
       "       6.16565366e-01, 2.81934238e+04, 6.24325175e-03, 9.67490618e-01,\n",
       "       1.24097151e+03, 8.18505602e-01, 6.29559885e+02, 6.95519931e-01,\n",
       "       3.81253932e-01, 6.85259741e+03])"
      ]
     },
     "execution_count": 85,
     "metadata": {},
     "output_type": "execute_result"
    }
   ],
   "source": [
    "parstouse"
   ]
  }
 ],
 "metadata": {
  "interpreter": {
   "hash": "8a298fcd4975270bf7de72dd497c9ffc6b9b23d9f9106b63cad7158b547d3724"
  },
  "kernelspec": {
   "display_name": "Python 3 (ipykernel)",
   "language": "python",
   "name": "python3"
  },
  "language_info": {
   "codemirror_mode": {
    "name": "ipython",
    "version": 3
   },
   "file_extension": ".py",
   "mimetype": "text/x-python",
   "name": "python",
   "nbconvert_exporter": "python",
   "pygments_lexer": "ipython3",
   "version": "3.10.8"
  },
  "orig_nbformat": 4
 },
 "nbformat": 4,
 "nbformat_minor": 2
}
