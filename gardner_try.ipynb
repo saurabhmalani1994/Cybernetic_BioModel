{
 "cells": [
  {
   "cell_type": "code",
   "execution_count": 2,
   "metadata": {},
   "outputs": [
    {
     "name": "stdout",
     "output_type": "stream",
     "text": [
      "/home/smalani/Cybernetic\n"
     ]
    },
    {
     "ename": "ImportError",
     "evalue": "cannot import name 'pulse_integrator' from 'gardner_opto' (/home/smalani/Cybernetic/gardner_opto.py)",
     "output_type": "error",
     "traceback": [
      "\u001b[0;31m---------------------------------------------------------------------------\u001b[0m",
      "\u001b[0;31mImportError\u001b[0m                               Traceback (most recent call last)",
      "\u001b[0;32m/tmp/ipykernel_12144/3829398431.py\u001b[0m in \u001b[0;36m<module>\u001b[0;34m\u001b[0m\n\u001b[1;32m      1\u001b[0m \u001b[0mget_ipython\u001b[0m\u001b[0;34m(\u001b[0m\u001b[0;34m)\u001b[0m\u001b[0;34m.\u001b[0m\u001b[0mrun_line_magic\u001b[0m\u001b[0;34m(\u001b[0m\u001b[0;34m'cd'\u001b[0m\u001b[0;34m,\u001b[0m \u001b[0;34m'/home/smalani/Cybernetic'\u001b[0m\u001b[0;34m)\u001b[0m\u001b[0;34m\u001b[0m\u001b[0;34m\u001b[0m\u001b[0m\n\u001b[1;32m      2\u001b[0m \u001b[0;34m\u001b[0m\u001b[0m\n\u001b[0;32m----> 3\u001b[0;31m \u001b[0;32mfrom\u001b[0m \u001b[0mgardner_opto\u001b[0m \u001b[0;32mimport\u001b[0m \u001b[0mpulse_integrator\u001b[0m\u001b[0;34m\u001b[0m\u001b[0;34m\u001b[0m\u001b[0m\n\u001b[0m\u001b[1;32m      4\u001b[0m \u001b[0;34m\u001b[0m\u001b[0m\n\u001b[1;32m      5\u001b[0m \u001b[0mpulse_integrator\u001b[0m\u001b[0;34m(\u001b[0m\u001b[0mverbose\u001b[0m\u001b[0;34m=\u001b[0m\u001b[0;32mTrue\u001b[0m\u001b[0;34m)\u001b[0m\u001b[0;34m\u001b[0m\u001b[0;34m\u001b[0m\u001b[0m\n",
      "\u001b[0;31mImportError\u001b[0m: cannot import name 'pulse_integrator' from 'gardner_opto' (/home/smalani/Cybernetic/gardner_opto.py)"
     ]
    }
   ],
   "source": [
    "%cd /home/smalani/Cybernetic\n",
    "\n",
    "from gardner_opto import pulse_integrator\n",
    "\n",
    "pulse_integrator(verbose=True)"
   ]
  },
  {
   "cell_type": "code",
   "execution_count": 1,
   "metadata": {},
   "outputs": [],
   "source": [
    "import numpy as np"
   ]
  },
  {
   "cell_type": "code",
   "execution_count": 8,
   "metadata": {},
   "outputs": [
    {
     "name": "stdout",
     "output_type": "stream",
     "text": [
      "5.15245855661072\n",
      "0.5300000000000001\n"
     ]
    }
   ],
   "source": [
    "from scipy.optimize import fsolve\n",
    "from scipy.optimize import root_scalar\n",
    "\n",
    "theta = 0.530\n",
    "\n",
    "## Circuit Parameters ##\n",
    "tau_off = 30\n",
    "tau_on = 5\n",
    "n = 4\n",
    "\n",
    "pulse_fun = lambda t: (t ** n) / (t ** n + tau_on ** n) - theta\n",
    "\n",
    "sol = root_scalar(pulse_fun, bracket=[0, 100])\n",
    "\n",
    "t_out = sol.root\n",
    "print(t_out)\n",
    "\n",
    "theta_out = (t_out ** n) / (t_out ** n + tau_on ** n)\n",
    "print(theta_out)"
   ]
  },
  {
   "cell_type": "code",
   "execution_count": 13,
   "metadata": {},
   "outputs": [
    {
     "name": "stdout",
     "output_type": "stream",
     "text": [
      "New t_status is: 2.6372639284956305\n",
      "New t_status is: 2.6372639284956305\n"
     ]
    }
   ],
   "source": [
    "## Pulsing Parameters ##\n",
    "pulse_period = 100\n",
    "pulse_on = 20\n",
    "\n",
    "## Circuit Parameters ##\n",
    "tau_off = 30\n",
    "tau_on = 5\n",
    "n = 4\n",
    "\n",
    "## Integration Parameters ##\n",
    "\n",
    "t_start = 0\n",
    "t_step = 1\n",
    "t_end = 200\n",
    "\n",
    "\n",
    "\n",
    "## Integration ##\n",
    "t = 0\n",
    "act_out = []\n",
    "act_out.append(0)\n",
    "t_out = []\n",
    "t_out.append(0)\n",
    "t_status = 0\n",
    "\n",
    "while t < t_end:\n",
    "    t = t + t_step\n",
    "    t_phase = t % pulse_period\n",
    "    if t_phase < pulse_on:\n",
    "        if t_out[-1] % pulse_period > pulse_on:\n",
    "            pulse_fun = lambda x: (x ** n) / (x ** n + tau_on ** n) - act_out[-1]\n",
    "            # t_status = fsolve(pulse_fun, 100)\n",
    "            sol = root_scalar(pulse_fun, bracket=[0, pulse_period])\n",
    "            t_status = sol.root\n",
    "            print('New t_status is: ' + str(t_status))\n",
    "            # assert False\n",
    "        act = (t_phase + t_status) ** n / ((t_phase + t_status) ** n + tau_on ** n)\n",
    "    else:\n",
    "        act = np.exp(-(t_phase - pulse_on) / tau_off)    \n",
    "    t_out.append(t)\n",
    "    act_out.append(act)\n",
    "t_out = np.hstack(t_out)\n",
    "act_out = np.hstack(act_out)"
   ]
  },
  {
   "cell_type": "code",
   "execution_count": 14,
   "metadata": {},
   "outputs": [
    {
     "data": {
      "text/plain": [
       "[<matplotlib.lines.Line2D at 0x2ad3d5b158e0>]"
      ]
     },
     "execution_count": 14,
     "metadata": {},
     "output_type": "execute_result"
    },
    {
     "data": {
      "image/png": "[encoded data removed]",
      "text/plain": [
       "<Figure size 432x288 with 1 Axes>"
      ]
     },
     "metadata": {
      "needs_background": "light"
     },
     "output_type": "display_data"
    }
   ],
   "source": [
    "import matplotlib.pyplot as plt\n",
    "\n",
    "plt.figure()\n",
    "plt.plot(t_out, act_out)"
   ]
  },
  {
   "cell_type": "code",
   "execution_count": 15,
   "metadata": {},
   "outputs": [
    {
     "name": "stdout",
     "output_type": "stream",
     "text": [
      "0\n",
      "0.513417119032592\n"
     ]
    }
   ],
   "source": [
    "print(t_phase)\n",
    "print(np.exp(-(100 - 80) / 30))"
   ]
  },
  {
   "cell_type": "code",
   "execution_count": null,
   "metadata": {},
   "outputs": [],
   "source": []
  }
 ],
 "metadata": {
  "kernelspec": {
   "display_name": "Python 3.8.11 64-bit ('torch-env': conda)",
   "language": "python",
   "name": "python3811jvsc74a57bd08a298fcd4975270bf7de72dd497c9ffc6b9b23d9f9106b63cad7158b547d3724"
  },
  "language_info": {
   "codemirror_mode": {
    "name": "ipython",
    "version": 3
   },
   "file_extension": ".py",
   "mimetype": "text/x-python",
   "name": "python",
   "nbconvert_exporter": "python",
   "pygments_lexer": "ipython3",
   "version": "3.8.11"
  },
  "orig_nbformat": 4
 },
 "nbformat": 4,
 "nbformat_minor": 2
}
